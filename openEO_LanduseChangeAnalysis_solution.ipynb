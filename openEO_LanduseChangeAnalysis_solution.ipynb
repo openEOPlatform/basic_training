{
 "cells": [
  {
   "cell_type": "markdown",
   "id": "twenty-celtic",
   "metadata": {},
   "source": [
    "<img src=\"https://avatars.githubusercontent.com/u/74911464?s=200&v=4\"\n",
    "     alt=\"OpenEO Platform logo\"\n",
    "     style=\"float: left; margin-right: 10px;\" />\n",
    "## openEO Platform - Corine Land Cover Change over an alpine region"
   ]
  },
  {
   "cell_type": "code",
   "execution_count": 10,
   "id": "central-internet",
   "metadata": {},
   "outputs": [
    {
     "data": {
      "text/plain": [
       "'0.10.1'"
      ]
     },
     "execution_count": 10,
     "metadata": {},
     "output_type": "execute_result"
    }
   ],
   "source": [
    "import openeo\n",
    "from openeo.rest.datacube import THIS\n",
    "openeo.client_version()"
   ]
  },
  {
   "cell_type": "markdown",
   "id": "egyptian-satin",
   "metadata": {},
   "source": [
    "## Connect to openEO\n",
    "\n",
    "Via EGI Check-in using the aggregator"
   ]
  },
  {
   "cell_type": "code",
   "execution_count": 2,
   "id": "ed94f371-a108-40e8-b738-835f39b27bc6",
   "metadata": {},
   "outputs": [
    {
     "name": "stdout",
     "output_type": "stream",
     "text": [
      "To authenticate: visit https://aai.egi.eu/oidc/device and enter the user code 'cNH7JP'.\n",
      "Authorized successfully.\n",
      "Authenticated using device code flow.\n"
     ]
    }
   ],
   "source": [
    "openeo_aggregator = \"openeo.cloud\"\n",
    "conn = openeo.connect(openeo_aggregator)\n",
    "conn = conn.authenticate_oidc()"
   ]
  },
  {
   "cell_type": "code",
   "execution_count": 2,
   "id": "7d66c87f",
   "metadata": {},
   "outputs": [],
   "source": [
    "# Describe account and list collections if needed\n",
    "# conn.describe_account()['user_id']\n",
    "# conn.list_collections()\n"
   ]
  },
  {
   "cell_type": "markdown",
   "id": "9c9c8d8f",
   "metadata": {},
   "source": [
    "#### Have a look at the CORINE LAND COVER collection"
   ]
  },
  {
   "cell_type": "code",
   "execution_count": 111,
   "id": "a8dd3eb1",
   "metadata": {},
   "outputs": [
    {
     "data": {
      "text/html": [
       "\n",
       "    <script>\n",
       "    if (!window.customElements || !window.customElements.get('openeo-collection')) {\n",
       "        var el = document.createElement('script');\n",
       "        el.src = \"https://cdn.jsdelivr.net/npm/@openeo/vue-components@2/assets/openeo.min.js\";\n",
       "        document.head.appendChild(el);\n",
       "\n",
       "        var font = document.createElement('font');\n",
       "        font.as = \"font\";\n",
       "        font.type = \"font/woff2\";\n",
       "        font.crossOrigin = true;\n",
       "        font.href = \"https://use.fontawesome.com/releases/v5.13.0/webfonts/fa-solid-900.woff2\"\n",
       "        document.head.appendChild(font);\n",
       "    }\n",
       "    </script>\n",
       "    <openeo-collection>\n",
       "        <script type=\"application/json\">{\"mapOptions\": {}, \"data\": {\"cube:dimensions\": {\"bands\": {\"type\": \"bands\", \"values\": [\"CLC\"]}, \"t\": {\"extent\": [[\"2000-12-15T00:00:00\", \"2018-12-15T00:00:00\"]], \"type\": \"temporal\"}, \"x\": {\"axis\": \"x\", \"extent\": [1400000.0, 7900000.0], \"reference_system\": \"PROJCS[\\\"Azimuthal_Equidistant\\\",GEOGCS[\\\"GCS_WGS_1984\\\",DATUM[\\\"D_WGS_1984\\\",SPHEROID[\\\"WGS_1984\\\",6378137,298.257223563]],PRIMEM[\\\"Greenwich\\\",0],UNIT[\\\"degree\\\",0.0174532925199433]],PROJECTION[\\\"Azimuthal_Equidistant\\\"],PARAMETER[\\\"latitude_of_center\\\",53],PARAMETER[\\\"longitude_of_center\\\",24],PARAMETER[\\\"false_easting\\\",5837287.81977],PARAMETER[\\\"false_northing\\\",2121415.69617],UNIT[\\\"metre\\\",1,AUTHORITY[\\\"EPSG\\\",\\\"9001\\\"]]]\", \"type\": \"spatial\"}, \"y\": {\"axis\": \"y\", \"extent\": [100000.0, 4500000.0], \"reference_system\": \"PROJCS[\\\"Azimuthal_Equidistant\\\",GEOGCS[\\\"GCS_WGS_1984\\\",DATUM[\\\"D_WGS_1984\\\",SPHEROID[\\\"WGS_1984\\\",6378137,298.257223563]],PRIMEM[\\\"Greenwich\\\",0],UNIT[\\\"degree\\\",0.0174532925199433]],PROJECTION[\\\"Azimuthal_Equidistant\\\"],PARAMETER[\\\"latitude_of_center\\\",53],PARAMETER[\\\"longitude_of_center\\\",24],PARAMETER[\\\"false_easting\\\",5837287.81977],PARAMETER[\\\"false_northing\\\",2121415.69617],UNIT[\\\"metre\\\",1,AUTHORITY[\\\"EPSG\\\",\\\"9001\\\"]]]\", \"type\": \"spatial\"}}, \"description\": \"The CORINE Land Cover (CLC) inventory began in 1985, consisting of 44 land cover classes. This collection is resampled and stored at a 10m x 10m resolution. For further information on CORINE land cover see [here](https://land.copernicus.eu/pan-european/corine-land-cover)\", \"extent\": {\"spatial\": {\"bbox\": [[-32.091997820189285, 31.6977150076753, 55.116146716432254, 72.11413813793037]]}, \"temporal\": {\"interval\": [[\"2000-12-15T00:00:00Z\", \"2018-12-15T00:00:00Z\"]]}}, \"id\": \"corine_land_cover\", \"item_assets\": {}, \"keywords\": [\"EODC\", \"Copernicus\", \"ARD\", \"Level-3\"], \"license\": \"proprietary\", \"links\": [{\"href\": \"https://openeo.eodc.eu/v1.0\", \"rel\": \"root\"}, {\"href\": \"https://openeo.eodc.eu/v1.0/collections\", \"rel\": \"parent\"}, {\"href\": \"https://openeo.eodc.eu/v1.0/collections/corine_land_cover\", \"rel\": \"self\"}, {\"href\": \"https://openeo.eodc.eu/v1.0/collections/corine_land_cover/items\", \"rel\": \"items\"}], \"properties\": {}, \"stac_extensions\": [\"https://stac-extensions.github.io/datacube/v2.0.0/schema.json\", \"https://stac-extensions.github.io/item-assets/v1.0.0/schema.json\", \"https://github.com/stac-extensions/eo\"], \"stac_version\": \"1.0.0\", \"summaries\": {\"constellation\": {}, \"eo:bands\": [{\"common_name\": \"band1\", \"name\": \"CLC\"}], \"odc:file_format\": {\"0\": \"GeoTIFF\"}, \"odc:product_family\": {\"0\": \"level2\"}, \"platform\": {}}, \"title\": \"CORINE Land Cover\", \"type\": \"Collection\"}}</script>\n",
       "    </openeo-collection>\n",
       "    "
      ],
      "text/plain": [
       "{'cube:dimensions': {'bands': {'type': 'bands', 'values': ['CLC']},\n",
       "  't': {'extent': [['2000-12-15T00:00:00', '2018-12-15T00:00:00']],\n",
       "   'type': 'temporal'},\n",
       "  'x': {'axis': 'x',\n",
       "   'extent': [1400000.0, 7900000.0],\n",
       "   'reference_system': 'PROJCS[\"Azimuthal_Equidistant\",GEOGCS[\"GCS_WGS_1984\",DATUM[\"D_WGS_1984\",SPHEROID[\"WGS_1984\",6378137,298.257223563]],PRIMEM[\"Greenwich\",0],UNIT[\"degree\",0.0174532925199433]],PROJECTION[\"Azimuthal_Equidistant\"],PARAMETER[\"latitude_of_center\",53],PARAMETER[\"longitude_of_center\",24],PARAMETER[\"false_easting\",5837287.81977],PARAMETER[\"false_northing\",2121415.69617],UNIT[\"metre\",1,AUTHORITY[\"EPSG\",\"9001\"]]]',\n",
       "   'type': 'spatial'},\n",
       "  'y': {'axis': 'y',\n",
       "   'extent': [100000.0, 4500000.0],\n",
       "   'reference_system': 'PROJCS[\"Azimuthal_Equidistant\",GEOGCS[\"GCS_WGS_1984\",DATUM[\"D_WGS_1984\",SPHEROID[\"WGS_1984\",6378137,298.257223563]],PRIMEM[\"Greenwich\",0],UNIT[\"degree\",0.0174532925199433]],PROJECTION[\"Azimuthal_Equidistant\"],PARAMETER[\"latitude_of_center\",53],PARAMETER[\"longitude_of_center\",24],PARAMETER[\"false_easting\",5837287.81977],PARAMETER[\"false_northing\",2121415.69617],UNIT[\"metre\",1,AUTHORITY[\"EPSG\",\"9001\"]]]',\n",
       "   'type': 'spatial'}},\n",
       " 'description': 'The CORINE Land Cover (CLC) inventory began in 1985, consisting of 44 land cover classes. This collection is resampled and stored at a 10m x 10m resolution. For further information on CORINE land cover see [here](https://land.copernicus.eu/pan-european/corine-land-cover)',\n",
       " 'extent': {'spatial': {'bbox': [[-32.091997820189285,\n",
       "     31.6977150076753,\n",
       "     55.116146716432254,\n",
       "     72.11413813793037]]},\n",
       "  'temporal': {'interval': [['2000-12-15T00:00:00Z',\n",
       "     '2018-12-15T00:00:00Z']]}},\n",
       " 'id': 'corine_land_cover',\n",
       " 'item_assets': {},\n",
       " 'keywords': ['EODC', 'Copernicus', 'ARD', 'Level-3'],\n",
       " 'license': 'proprietary',\n",
       " 'links': [{'href': 'https://openeo.eodc.eu/v1.0', 'rel': 'root'},\n",
       "  {'href': 'https://openeo.eodc.eu/v1.0/collections', 'rel': 'parent'},\n",
       "  {'href': 'https://openeo.eodc.eu/v1.0/collections/corine_land_cover',\n",
       "   'rel': 'self'},\n",
       "  {'href': 'https://openeo.eodc.eu/v1.0/collections/corine_land_cover/items',\n",
       "   'rel': 'items'}],\n",
       " 'properties': {},\n",
       " 'stac_extensions': ['https://stac-extensions.github.io/datacube/v2.0.0/schema.json',\n",
       "  'https://stac-extensions.github.io/item-assets/v1.0.0/schema.json',\n",
       "  'https://github.com/stac-extensions/eo'],\n",
       " 'stac_version': '1.0.0',\n",
       " 'summaries': {'constellation': {},\n",
       "  'eo:bands': [{'common_name': 'band1', 'name': 'CLC'}],\n",
       "  'odc:file_format': {'0': 'GeoTIFF'},\n",
       "  'odc:product_family': {'0': 'level2'},\n",
       "  'platform': {}},\n",
       " 'title': 'CORINE Land Cover',\n",
       " 'type': 'Collection'}"
      ]
     },
     "execution_count": 111,
     "metadata": {},
     "output_type": "execute_result"
    }
   ],
   "source": [
    "conn.describe_collection(\"corine_land_cover\")"
   ]
  },
  {
   "cell_type": "markdown",
   "id": "7285f333",
   "metadata": {},
   "source": [
    "<img src=\"CorineLandClasses.png\"\n",
    "     width=500px\n",
    "     alt=\"CLC\" />"
   ]
  },
  {
   "cell_type": "code",
   "execution_count": 34,
   "id": "caecf590",
   "metadata": {},
   "outputs": [
    {
     "data": {
      "application/vnd.jupyter.widget-view+json": {
       "model_id": "f511479e537b493f873ec6dbe0e5ff64",
       "version_major": 2,
       "version_minor": 0
      },
      "text/plain": [
       "Map(center=[47.1, 12.84], controls=(ZoomControl(options=['position', 'zoom_in_text', 'zoom_in_title', 'zoom_ou…"
      ]
     },
     "metadata": {},
     "output_type": "display_data"
    }
   ],
   "source": [
    "from eo_utils import openeoMap\n",
    "center = [47.1, 12.84]\n",
    "zoom = 11\n",
    "\n",
    "eoMap = openeoMap(center,zoom)\n",
    "eoMap.map"
   ]
  },
  {
   "cell_type": "code",
   "execution_count": 35,
   "id": "096fc7c4",
   "metadata": {},
   "outputs": [
    {
     "name": "stdout",
     "output_type": "stream",
     "text": [
      "{'west': 12.547760009765627, 'south': 47.00647991252098, 'east': 13.132781982421875, 'north': 47.19344533938292}\n"
     ]
    }
   ],
   "source": [
    "from openeo.util import to_bbox_dict\n",
    "bbox = eoMap.getBbox()\n",
    "spatial_extent = to_bbox_dict(bbox) \n",
    "print(spatial_extent)"
   ]
  },
  {
   "cell_type": "code",
   "execution_count": 42,
   "id": "c260ec05",
   "metadata": {},
   "outputs": [],
   "source": [
    "spatial_extent = {'west': 11.716845, 'south': 41.685049, 'east': 13.112587, 'north': 42.336046} "
   ]
  },
  {
   "cell_type": "markdown",
   "id": "4c74d6c2",
   "metadata": {},
   "source": [
    "Load the data"
   ]
  },
  {
   "cell_type": "code",
   "execution_count": 43,
   "id": "af9d9667",
   "metadata": {},
   "outputs": [],
   "source": [
    "collection = 'corine_land_cover'\n",
    "corine_data = conn.load_collection(\n",
    "    collection, \n",
    "    spatial_extent=spatial_extent, \n",
    "    temporal_extent=[\"2000-01-01\", \"2019-04-30\"],\n",
    "    bands=[\"CLC\"], \n",
    ")"
   ]
  },
  {
   "cell_type": "markdown",
   "id": "82b0ec85",
   "metadata": {},
   "source": [
    "The land cover class 34 is the \"Glaciers and perpetual snow\".\n",
    "\n",
    "Look at where the data is equal to 34"
   ]
  },
  {
   "cell_type": "code",
   "execution_count": 44,
   "id": "95118f3a",
   "metadata": {},
   "outputs": [],
   "source": [
    "corine_eq_34 = corine_data.process(\"eq\",{\"x\":THIS,\"y\": 34})"
   ]
  },
  {
   "cell_type": "code",
   "execution_count": 45,
   "id": "73c4d480",
   "metadata": {},
   "outputs": [],
   "source": [
    "corine_2000 = corine_eq_34.filter_temporal(extent=[\"2000-01-01\", \"2001-01-01\"])\n",
    "corine_2018 = corine_eq_34.filter_temporal(extent=[\"2018-01-01\", \"2019-01-01\"])"
   ]
  },
  {
   "cell_type": "code",
   "execution_count": 46,
   "id": "82bf0e92",
   "metadata": {},
   "outputs": [],
   "source": [
    "corine_merged = corine_2000.merge_cubes(corine_2018)"
   ]
  },
  {
   "cell_type": "code",
   "execution_count": 47,
   "id": "238d09c2",
   "metadata": {},
   "outputs": [],
   "source": [
    "corine_merged_saved = corine_merged.save_result(\"NetCDF\")"
   ]
  },
  {
   "cell_type": "code",
   "execution_count": 48,
   "id": "816660a2",
   "metadata": {},
   "outputs": [
    {
     "data": {
      "text/plain": [
       "{'loadcollection1': {'process_id': 'load_collection',\n",
       "  'arguments': {'bands': ['CLC'],\n",
       "   'id': 'corine_land_cover',\n",
       "   'spatial_extent': {'west': 11.716845,\n",
       "    'south': 41.685049,\n",
       "    'east': 13.112587,\n",
       "    'north': 42.336046},\n",
       "   'temporal_extent': ['2000-01-01', '2019-04-30']}},\n",
       " 'eq1': {'process_id': 'eq',\n",
       "  'arguments': {'x': {'from_node': 'loadcollection1'}, 'y': 34}},\n",
       " 'filtertemporal1': {'process_id': 'filter_temporal',\n",
       "  'arguments': {'data': {'from_node': 'eq1'},\n",
       "   'extent': ['2000-01-01', '2001-01-01']}},\n",
       " 'filtertemporal2': {'process_id': 'filter_temporal',\n",
       "  'arguments': {'data': {'from_node': 'eq1'},\n",
       "   'extent': ['2018-01-01', '2019-01-01']}},\n",
       " 'mergecubes1': {'process_id': 'merge_cubes',\n",
       "  'arguments': {'cube1': {'from_node': 'filtertemporal1'},\n",
       "   'cube2': {'from_node': 'filtertemporal2'}}},\n",
       " 'saveresult1': {'process_id': 'save_result',\n",
       "  'arguments': {'data': {'from_node': 'mergecubes1'},\n",
       "   'format': 'NetCDF',\n",
       "   'options': {}},\n",
       "  'result': True}}"
      ]
     },
     "execution_count": 48,
     "metadata": {},
     "output_type": "execute_result"
    }
   ],
   "source": [
    "corine_merged_saved.flat_graph()"
   ]
  },
  {
   "cell_type": "markdown",
   "id": "5ba48587",
   "metadata": {},
   "source": [
    "Create and start a job"
   ]
  },
  {
   "cell_type": "code",
   "execution_count": 49,
   "id": "8771aad4",
   "metadata": {},
   "outputs": [
    {
     "name": "stdout",
     "output_type": "stream",
     "text": [
      "Batch job with id eodc-jb-2e8e04b5-84c6-4512-aca9-d61a6baae5ea has status  created\n"
     ]
    }
   ],
   "source": [
    "job = corine_merged_saved.create_job(title = \"CORINE_LAND_COVER\")\n",
    "print(f\"Batch job with id {job.job_id} has status  {job.status()}\")"
   ]
  },
  {
   "cell_type": "code",
   "execution_count": 50,
   "id": "85a6347b",
   "metadata": {},
   "outputs": [
    {
     "name": "stdout",
     "output_type": "stream",
     "text": [
      "Batch job with id eodc-jb-2e8e04b5-84c6-4512-aca9-d61a6baae5ea has status  running\n"
     ]
    }
   ],
   "source": [
    "job.start_job()\n",
    "print(f\"Batch job with id {job.job_id} has status  {job.status()}\")"
   ]
  },
  {
   "cell_type": "code",
   "execution_count": 54,
   "id": "0b2658aa",
   "metadata": {},
   "outputs": [
    {
     "name": "stdout",
     "output_type": "stream",
     "text": [
      "Batch job with id eodc-jb-2e8e04b5-84c6-4512-aca9-d61a6baae5ea has status  finished\n"
     ]
    }
   ],
   "source": [
    "print(f\"Batch job with id {job.job_id} has status  {job.status()}\")"
   ]
  },
  {
   "cell_type": "code",
   "execution_count": 110,
   "id": "13a9f4b6",
   "metadata": {},
   "outputs": [
    {
     "data": {
      "text/plain": [
       "[PosixPath('demo_data/out_2000_12_15T00_00_00_EU010M_E048N009T1'),\n",
       " PosixPath('demo_data/out_2000_12_15T00_00_00_EU010M_E048N010T1'),\n",
       " PosixPath('demo_data/out_2000_12_15T00_00_00_EU010M_E049N009T1'),\n",
       " PosixPath('demo_data/out_2000_12_15T00_00_00_EU010M_E049N010T1'),\n",
       " PosixPath('demo_data/out_2018_12_15T00_00_00_EU010M_E048N009T1'),\n",
       " PosixPath('demo_data/out_2018_12_15T00_00_00_EU010M_E048N010T1'),\n",
       " PosixPath('demo_data/out_2018_12_15T00_00_00_EU010M_E049N009T1'),\n",
       " PosixPath('demo_data/out_2018_12_15T00_00_00_EU010M_E049N010T1'),\n",
       " PosixPath('demo_data/job-results.json')]"
      ]
     },
     "execution_count": 110,
     "metadata": {},
     "output_type": "execute_result"
    }
   ],
   "source": [
    "results = job.get_results()\n",
    "metadata = results.get_metadata()\n",
    "results.download_files(\"./demo_data/\")"
   ]
  },
  {
   "cell_type": "markdown",
   "id": "904b60aa",
   "metadata": {},
   "source": [
    "Open the downloaded data and have a look at it"
   ]
  },
  {
   "cell_type": "code",
   "execution_count": 104,
   "id": "d767bd54",
   "metadata": {},
   "outputs": [
    {
     "data": {
      "text/html": [
       "<div><svg style=\"position: absolute; width: 0; height: 0; overflow: hidden\">\n",
       "<defs>\n",
       "<symbol id=\"icon-database\" viewBox=\"0 0 32 32\">\n",
       "<path d=\"M16 0c-8.837 0-16 2.239-16 5v4c0 2.761 7.163 5 16 5s16-2.239 16-5v-4c0-2.761-7.163-5-16-5z\"></path>\n",
       "<path d=\"M16 17c-8.837 0-16-2.239-16-5v6c0 2.761 7.163 5 16 5s16-2.239 16-5v-6c0 2.761-7.163 5-16 5z\"></path>\n",
       "<path d=\"M16 26c-8.837 0-16-2.239-16-5v6c0 2.761 7.163 5 16 5s16-2.239 16-5v-6c0 2.761-7.163 5-16 5z\"></path>\n",
       "</symbol>\n",
       "<symbol id=\"icon-file-text2\" viewBox=\"0 0 32 32\">\n",
       "<path d=\"M28.681 7.159c-0.694-0.947-1.662-2.053-2.724-3.116s-2.169-2.030-3.116-2.724c-1.612-1.182-2.393-1.319-2.841-1.319h-15.5c-1.378 0-2.5 1.121-2.5 2.5v27c0 1.378 1.122 2.5 2.5 2.5h23c1.378 0 2.5-1.122 2.5-2.5v-19.5c0-0.448-0.137-1.23-1.319-2.841zM24.543 5.457c0.959 0.959 1.712 1.825 2.268 2.543h-4.811v-4.811c0.718 0.556 1.584 1.309 2.543 2.268zM28 29.5c0 0.271-0.229 0.5-0.5 0.5h-23c-0.271 0-0.5-0.229-0.5-0.5v-27c0-0.271 0.229-0.5 0.5-0.5 0 0 15.499-0 15.5 0v7c0 0.552 0.448 1 1 1h7v19.5z\"></path>\n",
       "<path d=\"M23 26h-14c-0.552 0-1-0.448-1-1s0.448-1 1-1h14c0.552 0 1 0.448 1 1s-0.448 1-1 1z\"></path>\n",
       "<path d=\"M23 22h-14c-0.552 0-1-0.448-1-1s0.448-1 1-1h14c0.552 0 1 0.448 1 1s-0.448 1-1 1z\"></path>\n",
       "<path d=\"M23 18h-14c-0.552 0-1-0.448-1-1s0.448-1 1-1h14c0.552 0 1 0.448 1 1s-0.448 1-1 1z\"></path>\n",
       "</symbol>\n",
       "</defs>\n",
       "</svg>\n",
       "<style>/* CSS stylesheet for displaying xarray objects in jupyterlab.\n",
       " *\n",
       " */\n",
       "\n",
       ":root {\n",
       "  --xr-font-color0: var(--jp-content-font-color0, rgba(0, 0, 0, 1));\n",
       "  --xr-font-color2: var(--jp-content-font-color2, rgba(0, 0, 0, 0.54));\n",
       "  --xr-font-color3: var(--jp-content-font-color3, rgba(0, 0, 0, 0.38));\n",
       "  --xr-border-color: var(--jp-border-color2, #e0e0e0);\n",
       "  --xr-disabled-color: var(--jp-layout-color3, #bdbdbd);\n",
       "  --xr-background-color: var(--jp-layout-color0, white);\n",
       "  --xr-background-color-row-even: var(--jp-layout-color1, white);\n",
       "  --xr-background-color-row-odd: var(--jp-layout-color2, #eeeeee);\n",
       "}\n",
       "\n",
       "html[theme=dark],\n",
       "body.vscode-dark {\n",
       "  --xr-font-color0: rgba(255, 255, 255, 1);\n",
       "  --xr-font-color2: rgba(255, 255, 255, 0.54);\n",
       "  --xr-font-color3: rgba(255, 255, 255, 0.38);\n",
       "  --xr-border-color: #1F1F1F;\n",
       "  --xr-disabled-color: #515151;\n",
       "  --xr-background-color: #111111;\n",
       "  --xr-background-color-row-even: #111111;\n",
       "  --xr-background-color-row-odd: #313131;\n",
       "}\n",
       "\n",
       ".xr-wrap {\n",
       "  display: block !important;\n",
       "  min-width: 300px;\n",
       "  max-width: 700px;\n",
       "}\n",
       "\n",
       ".xr-text-repr-fallback {\n",
       "  /* fallback to plain text repr when CSS is not injected (untrusted notebook) */\n",
       "  display: none;\n",
       "}\n",
       "\n",
       ".xr-header {\n",
       "  padding-top: 6px;\n",
       "  padding-bottom: 6px;\n",
       "  margin-bottom: 4px;\n",
       "  border-bottom: solid 1px var(--xr-border-color);\n",
       "}\n",
       "\n",
       ".xr-header > div,\n",
       ".xr-header > ul {\n",
       "  display: inline;\n",
       "  margin-top: 0;\n",
       "  margin-bottom: 0;\n",
       "}\n",
       "\n",
       ".xr-obj-type,\n",
       ".xr-array-name {\n",
       "  margin-left: 2px;\n",
       "  margin-right: 10px;\n",
       "}\n",
       "\n",
       ".xr-obj-type {\n",
       "  color: var(--xr-font-color2);\n",
       "}\n",
       "\n",
       ".xr-sections {\n",
       "  padding-left: 0 !important;\n",
       "  display: grid;\n",
       "  grid-template-columns: 150px auto auto 1fr 20px 20px;\n",
       "}\n",
       "\n",
       ".xr-section-item {\n",
       "  display: contents;\n",
       "}\n",
       "\n",
       ".xr-section-item input {\n",
       "  display: none;\n",
       "}\n",
       "\n",
       ".xr-section-item input + label {\n",
       "  color: var(--xr-disabled-color);\n",
       "}\n",
       "\n",
       ".xr-section-item input:enabled + label {\n",
       "  cursor: pointer;\n",
       "  color: var(--xr-font-color2);\n",
       "}\n",
       "\n",
       ".xr-section-item input:enabled + label:hover {\n",
       "  color: var(--xr-font-color0);\n",
       "}\n",
       "\n",
       ".xr-section-summary {\n",
       "  grid-column: 1;\n",
       "  color: var(--xr-font-color2);\n",
       "  font-weight: 500;\n",
       "}\n",
       "\n",
       ".xr-section-summary > span {\n",
       "  display: inline-block;\n",
       "  padding-left: 0.5em;\n",
       "}\n",
       "\n",
       ".xr-section-summary-in:disabled + label {\n",
       "  color: var(--xr-font-color2);\n",
       "}\n",
       "\n",
       ".xr-section-summary-in + label:before {\n",
       "  display: inline-block;\n",
       "  content: '►';\n",
       "  font-size: 11px;\n",
       "  width: 15px;\n",
       "  text-align: center;\n",
       "}\n",
       "\n",
       ".xr-section-summary-in:disabled + label:before {\n",
       "  color: var(--xr-disabled-color);\n",
       "}\n",
       "\n",
       ".xr-section-summary-in:checked + label:before {\n",
       "  content: '▼';\n",
       "}\n",
       "\n",
       ".xr-section-summary-in:checked + label > span {\n",
       "  display: none;\n",
       "}\n",
       "\n",
       ".xr-section-summary,\n",
       ".xr-section-inline-details {\n",
       "  padding-top: 4px;\n",
       "  padding-bottom: 4px;\n",
       "}\n",
       "\n",
       ".xr-section-inline-details {\n",
       "  grid-column: 2 / -1;\n",
       "}\n",
       "\n",
       ".xr-section-details {\n",
       "  display: none;\n",
       "  grid-column: 1 / -1;\n",
       "  margin-bottom: 5px;\n",
       "}\n",
       "\n",
       ".xr-section-summary-in:checked ~ .xr-section-details {\n",
       "  display: contents;\n",
       "}\n",
       "\n",
       ".xr-array-wrap {\n",
       "  grid-column: 1 / -1;\n",
       "  display: grid;\n",
       "  grid-template-columns: 20px auto;\n",
       "}\n",
       "\n",
       ".xr-array-wrap > label {\n",
       "  grid-column: 1;\n",
       "  vertical-align: top;\n",
       "}\n",
       "\n",
       ".xr-preview {\n",
       "  color: var(--xr-font-color3);\n",
       "}\n",
       "\n",
       ".xr-array-preview,\n",
       ".xr-array-data {\n",
       "  padding: 0 5px !important;\n",
       "  grid-column: 2;\n",
       "}\n",
       "\n",
       ".xr-array-data,\n",
       ".xr-array-in:checked ~ .xr-array-preview {\n",
       "  display: none;\n",
       "}\n",
       "\n",
       ".xr-array-in:checked ~ .xr-array-data,\n",
       ".xr-array-preview {\n",
       "  display: inline-block;\n",
       "}\n",
       "\n",
       ".xr-dim-list {\n",
       "  display: inline-block !important;\n",
       "  list-style: none;\n",
       "  padding: 0 !important;\n",
       "  margin: 0;\n",
       "}\n",
       "\n",
       ".xr-dim-list li {\n",
       "  display: inline-block;\n",
       "  padding: 0;\n",
       "  margin: 0;\n",
       "}\n",
       "\n",
       ".xr-dim-list:before {\n",
       "  content: '(';\n",
       "}\n",
       "\n",
       ".xr-dim-list:after {\n",
       "  content: ')';\n",
       "}\n",
       "\n",
       ".xr-dim-list li:not(:last-child):after {\n",
       "  content: ',';\n",
       "  padding-right: 5px;\n",
       "}\n",
       "\n",
       ".xr-has-index {\n",
       "  font-weight: bold;\n",
       "}\n",
       "\n",
       ".xr-var-list,\n",
       ".xr-var-item {\n",
       "  display: contents;\n",
       "}\n",
       "\n",
       ".xr-var-item > div,\n",
       ".xr-var-item label,\n",
       ".xr-var-item > .xr-var-name span {\n",
       "  background-color: var(--xr-background-color-row-even);\n",
       "  margin-bottom: 0;\n",
       "}\n",
       "\n",
       ".xr-var-item > .xr-var-name:hover span {\n",
       "  padding-right: 5px;\n",
       "}\n",
       "\n",
       ".xr-var-list > li:nth-child(odd) > div,\n",
       ".xr-var-list > li:nth-child(odd) > label,\n",
       ".xr-var-list > li:nth-child(odd) > .xr-var-name span {\n",
       "  background-color: var(--xr-background-color-row-odd);\n",
       "}\n",
       "\n",
       ".xr-var-name {\n",
       "  grid-column: 1;\n",
       "}\n",
       "\n",
       ".xr-var-dims {\n",
       "  grid-column: 2;\n",
       "}\n",
       "\n",
       ".xr-var-dtype {\n",
       "  grid-column: 3;\n",
       "  text-align: right;\n",
       "  color: var(--xr-font-color2);\n",
       "}\n",
       "\n",
       ".xr-var-preview {\n",
       "  grid-column: 4;\n",
       "}\n",
       "\n",
       ".xr-var-name,\n",
       ".xr-var-dims,\n",
       ".xr-var-dtype,\n",
       ".xr-preview,\n",
       ".xr-attrs dt {\n",
       "  white-space: nowrap;\n",
       "  overflow: hidden;\n",
       "  text-overflow: ellipsis;\n",
       "  padding-right: 10px;\n",
       "}\n",
       "\n",
       ".xr-var-name:hover,\n",
       ".xr-var-dims:hover,\n",
       ".xr-var-dtype:hover,\n",
       ".xr-attrs dt:hover {\n",
       "  overflow: visible;\n",
       "  width: auto;\n",
       "  z-index: 1;\n",
       "}\n",
       "\n",
       ".xr-var-attrs,\n",
       ".xr-var-data {\n",
       "  display: none;\n",
       "  background-color: var(--xr-background-color) !important;\n",
       "  padding-bottom: 5px !important;\n",
       "}\n",
       "\n",
       ".xr-var-attrs-in:checked ~ .xr-var-attrs,\n",
       ".xr-var-data-in:checked ~ .xr-var-data {\n",
       "  display: block;\n",
       "}\n",
       "\n",
       ".xr-var-data > table {\n",
       "  float: right;\n",
       "}\n",
       "\n",
       ".xr-var-name span,\n",
       ".xr-var-data,\n",
       ".xr-attrs {\n",
       "  padding-left: 25px !important;\n",
       "}\n",
       "\n",
       ".xr-attrs,\n",
       ".xr-var-attrs,\n",
       ".xr-var-data {\n",
       "  grid-column: 1 / -1;\n",
       "}\n",
       "\n",
       "dl.xr-attrs {\n",
       "  padding: 0;\n",
       "  margin: 0;\n",
       "  display: grid;\n",
       "  grid-template-columns: 125px auto;\n",
       "}\n",
       "\n",
       ".xr-attrs dt,\n",
       ".xr-attrs dd {\n",
       "  padding: 0;\n",
       "  margin: 0;\n",
       "  float: left;\n",
       "  padding-right: 10px;\n",
       "  width: auto;\n",
       "}\n",
       "\n",
       ".xr-attrs dt {\n",
       "  font-weight: normal;\n",
       "  grid-column: 1;\n",
       "}\n",
       "\n",
       ".xr-attrs dt:hover span {\n",
       "  display: inline-block;\n",
       "  background: var(--xr-background-color);\n",
       "  padding-right: 10px;\n",
       "}\n",
       "\n",
       ".xr-attrs dd {\n",
       "  grid-column: 2;\n",
       "  white-space: pre-wrap;\n",
       "  word-break: break-all;\n",
       "}\n",
       "\n",
       ".xr-icon-database,\n",
       ".xr-icon-file-text2 {\n",
       "  display: inline-block;\n",
       "  vertical-align: middle;\n",
       "  width: 1em;\n",
       "  height: 1.5em !important;\n",
       "  stroke-width: 0;\n",
       "  stroke: currentColor;\n",
       "  fill: currentColor;\n",
       "}\n",
       "</style><pre class='xr-text-repr-fallback'>&lt;xarray.Dataset&gt;\n",
       "Dimensions:      (y: 2735, x: 3179)\n",
       "Coordinates:\n",
       "    t            datetime64[ns] 2018-12-15\n",
       "  * y            (y) float64 1.543e+06 1.543e+06 ... 1.516e+06 1.516e+06\n",
       "  * x            (x) float64 4.968e+06 4.968e+06 4.968e+06 ... 5e+06 5e+06 5e+06\n",
       "    spatial_ref  int32 0\n",
       "Data variables:\n",
       "    CLC          (y, x) float64 ...\n",
       "Attributes:\n",
       "    crs:                PROJCRS[&quot;Azimuthal_Equidistant&quot;,BASEGEOGCRS[&quot;WGS 84&quot;,...\n",
       "    nodata:             -9999\n",
       "    collection:         corine_land_cover\n",
       "    datetime_from_dim:  2022-06-27 10:34:53.864849</pre><div class='xr-wrap' style='display:none'><div class='xr-header'><div class='xr-obj-type'>xarray.Dataset</div></div><ul class='xr-sections'><li class='xr-section-item'><input id='section-ec898aec-f981-4502-96a1-364b19d1594f' class='xr-section-summary-in' type='checkbox' disabled ><label for='section-ec898aec-f981-4502-96a1-364b19d1594f' class='xr-section-summary'  title='Expand/collapse section'>Dimensions:</label><div class='xr-section-inline-details'><ul class='xr-dim-list'><li><span class='xr-has-index'>y</span>: 2735</li><li><span class='xr-has-index'>x</span>: 3179</li></ul></div><div class='xr-section-details'></div></li><li class='xr-section-item'><input id='section-a08edf13-63ac-497b-802f-6ed8f8979756' class='xr-section-summary-in' type='checkbox'  checked><label for='section-a08edf13-63ac-497b-802f-6ed8f8979756' class='xr-section-summary' >Coordinates: <span>(4)</span></label><div class='xr-section-inline-details'></div><div class='xr-section-details'><ul class='xr-var-list'><li class='xr-var-item'><div class='xr-var-name'><span>t</span></div><div class='xr-var-dims'>()</div><div class='xr-var-dtype'>datetime64[ns]</div><div class='xr-var-preview xr-preview'>...</div><input id='attrs-2783f2c2-02a7-4548-8cca-c03c5f64641c' class='xr-var-attrs-in' type='checkbox' disabled><label for='attrs-2783f2c2-02a7-4548-8cca-c03c5f64641c' title='Show/Hide attributes'><svg class='icon xr-icon-file-text2'><use xlink:href='#icon-file-text2'></use></svg></label><input id='data-9301af72-e75c-457e-8ea7-d19291a8e28e' class='xr-var-data-in' type='checkbox'><label for='data-9301af72-e75c-457e-8ea7-d19291a8e28e' title='Show/Hide data repr'><svg class='icon xr-icon-database'><use xlink:href='#icon-database'></use></svg></label><div class='xr-var-attrs'><dl class='xr-attrs'></dl></div><div class='xr-var-data'><pre>array(&#x27;2018-12-15T00:00:00.000000000&#x27;, dtype=&#x27;datetime64[ns]&#x27;)</pre></div></li><li class='xr-var-item'><div class='xr-var-name'><span class='xr-has-index'>y</span></div><div class='xr-var-dims'>(y)</div><div class='xr-var-dtype'>float64</div><div class='xr-var-preview xr-preview'>1.543e+06 1.543e+06 ... 1.516e+06</div><input id='attrs-6e72c705-4089-4e35-a50a-d172d751aef5' class='xr-var-attrs-in' type='checkbox' ><label for='attrs-6e72c705-4089-4e35-a50a-d172d751aef5' title='Show/Hide attributes'><svg class='icon xr-icon-file-text2'><use xlink:href='#icon-file-text2'></use></svg></label><input id='data-cfd85983-ac06-4792-b521-3a168dedba8b' class='xr-var-data-in' type='checkbox'><label for='data-cfd85983-ac06-4792-b521-3a168dedba8b' title='Show/Hide data repr'><svg class='icon xr-icon-database'><use xlink:href='#icon-database'></use></svg></label><div class='xr-var-attrs'><dl class='xr-attrs'><dt><span>units :</span></dt><dd>metre</dd><dt><span>resolution :</span></dt><dd>-10.0</dd><dt><span>crs :</span></dt><dd>PROJCRS[&quot;Azimuthal_Equidistant&quot;,BASEGEOGCRS[&quot;WGS 84&quot;,DATUM[&quot;World Geodetic System 1984&quot;,ELLIPSOID[&quot;WGS 84&quot;,6378137,298.257223563,LENGTHUNIT[&quot;metre&quot;,1]],ID[&quot;EPSG&quot;,6326]],PRIMEM[&quot;Greenwich&quot;,0,ANGLEUNIT[&quot;degree&quot;,0.0174532925199433]]],CONVERSION[&quot;unnamed&quot;,METHOD[&quot;Modified Azimuthal Equidistant&quot;,ID[&quot;EPSG&quot;,9832]],PARAMETER[&quot;Latitude of natural origin&quot;,53,ANGLEUNIT[&quot;degree&quot;,0.0174532925199433],ID[&quot;EPSG&quot;,8801]],PARAMETER[&quot;Longitude of natural origin&quot;,24,ANGLEUNIT[&quot;degree&quot;,0.0174532925199433],ID[&quot;EPSG&quot;,8802]],PARAMETER[&quot;False easting&quot;,5837287.81977,LENGTHUNIT[&quot;metre&quot;,1],ID[&quot;EPSG&quot;,8806]],PARAMETER[&quot;False northing&quot;,2121415.69617,LENGTHUNIT[&quot;metre&quot;,1],ID[&quot;EPSG&quot;,8807]]],CS[Cartesian,2],AXIS[&quot;(E)&quot;,east,ORDER[1],LENGTHUNIT[&quot;metre&quot;,1,ID[&quot;EPSG&quot;,9001]]],AXIS[&quot;(N)&quot;,north,ORDER[2],LENGTHUNIT[&quot;metre&quot;,1,ID[&quot;EPSG&quot;,9001]]]]</dd></dl></div><div class='xr-var-data'><pre>array([1543125., 1543115., 1543105., ..., 1515805., 1515795., 1515785.])</pre></div></li><li class='xr-var-item'><div class='xr-var-name'><span class='xr-has-index'>x</span></div><div class='xr-var-dims'>(x)</div><div class='xr-var-dtype'>float64</div><div class='xr-var-preview xr-preview'>4.968e+06 4.968e+06 ... 5e+06 5e+06</div><input id='attrs-eea64e70-f2d8-4572-bae9-fb32fbfb36c8' class='xr-var-attrs-in' type='checkbox' ><label for='attrs-eea64e70-f2d8-4572-bae9-fb32fbfb36c8' title='Show/Hide attributes'><svg class='icon xr-icon-file-text2'><use xlink:href='#icon-file-text2'></use></svg></label><input id='data-15b24fed-b1e9-4283-9806-751ff293771d' class='xr-var-data-in' type='checkbox'><label for='data-15b24fed-b1e9-4283-9806-751ff293771d' title='Show/Hide data repr'><svg class='icon xr-icon-database'><use xlink:href='#icon-database'></use></svg></label><div class='xr-var-attrs'><dl class='xr-attrs'><dt><span>units :</span></dt><dd>metre</dd><dt><span>resolution :</span></dt><dd>10.0</dd><dt><span>crs :</span></dt><dd>PROJCRS[&quot;Azimuthal_Equidistant&quot;,BASEGEOGCRS[&quot;WGS 84&quot;,DATUM[&quot;World Geodetic System 1984&quot;,ELLIPSOID[&quot;WGS 84&quot;,6378137,298.257223563,LENGTHUNIT[&quot;metre&quot;,1]],ID[&quot;EPSG&quot;,6326]],PRIMEM[&quot;Greenwich&quot;,0,ANGLEUNIT[&quot;degree&quot;,0.0174532925199433]]],CONVERSION[&quot;unnamed&quot;,METHOD[&quot;Modified Azimuthal Equidistant&quot;,ID[&quot;EPSG&quot;,9832]],PARAMETER[&quot;Latitude of natural origin&quot;,53,ANGLEUNIT[&quot;degree&quot;,0.0174532925199433],ID[&quot;EPSG&quot;,8801]],PARAMETER[&quot;Longitude of natural origin&quot;,24,ANGLEUNIT[&quot;degree&quot;,0.0174532925199433],ID[&quot;EPSG&quot;,8802]],PARAMETER[&quot;False easting&quot;,5837287.81977,LENGTHUNIT[&quot;metre&quot;,1],ID[&quot;EPSG&quot;,8806]],PARAMETER[&quot;False northing&quot;,2121415.69617,LENGTHUNIT[&quot;metre&quot;,1],ID[&quot;EPSG&quot;,8807]]],CS[Cartesian,2],AXIS[&quot;(E)&quot;,east,ORDER[1],LENGTHUNIT[&quot;metre&quot;,1,ID[&quot;EPSG&quot;,9001]]],AXIS[&quot;(N)&quot;,north,ORDER[2],LENGTHUNIT[&quot;metre&quot;,1,ID[&quot;EPSG&quot;,9001]]]]</dd></dl></div><div class='xr-var-data'><pre>array([4968215., 4968225., 4968235., ..., 4999975., 4999985., 4999995.])</pre></div></li><li class='xr-var-item'><div class='xr-var-name'><span>spatial_ref</span></div><div class='xr-var-dims'>()</div><div class='xr-var-dtype'>int32</div><div class='xr-var-preview xr-preview'>...</div><input id='attrs-a50554c8-4a21-4071-aa07-e89eb3d86a10' class='xr-var-attrs-in' type='checkbox' ><label for='attrs-a50554c8-4a21-4071-aa07-e89eb3d86a10' title='Show/Hide attributes'><svg class='icon xr-icon-file-text2'><use xlink:href='#icon-file-text2'></use></svg></label><input id='data-24f8e494-7ab8-437f-803c-ef152956926c' class='xr-var-data-in' type='checkbox'><label for='data-24f8e494-7ab8-437f-803c-ef152956926c' title='Show/Hide data repr'><svg class='icon xr-icon-database'><use xlink:href='#icon-database'></use></svg></label><div class='xr-var-attrs'><dl class='xr-attrs'><dt><span>spatial_ref :</span></dt><dd>PROJCS[&quot;Azimuthal_Equidistant&quot;,GEOGCS[&quot;WGS 84&quot;,DATUM[&quot;WGS_1984&quot;,SPHEROID[&quot;WGS 84&quot;,6378137,298.257223563],AUTHORITY[&quot;EPSG&quot;,&quot;6326&quot;]],PRIMEM[&quot;Greenwich&quot;,0],UNIT[&quot;degree&quot;,0.0174532925199433]],PROJECTION[&quot;Azimuthal_Equidistant&quot;],PARAMETER[&quot;latitude_of_center&quot;,53],PARAMETER[&quot;longitude_of_center&quot;,24],PARAMETER[&quot;false_easting&quot;,5837287.81977],PARAMETER[&quot;false_northing&quot;,2121415.69617],UNIT[&quot;metre&quot;,1,AUTHORITY[&quot;EPSG&quot;,&quot;9001&quot;]],AXIS[&quot;Easting&quot;,EAST],AXIS[&quot;Northing&quot;,NORTH]]</dd><dt><span>grid_mapping_name :</span></dt><dd>azimuthal_equidistant</dd></dl></div><div class='xr-var-data'><pre>array(0, dtype=int32)</pre></div></li></ul></div></li><li class='xr-section-item'><input id='section-3b9e39fe-75ff-476e-af50-e1b67b53d18b' class='xr-section-summary-in' type='checkbox'  checked><label for='section-3b9e39fe-75ff-476e-af50-e1b67b53d18b' class='xr-section-summary' >Data variables: <span>(1)</span></label><div class='xr-section-inline-details'></div><div class='xr-section-details'><ul class='xr-var-list'><li class='xr-var-item'><div class='xr-var-name'><span>CLC</span></div><div class='xr-var-dims'>(y, x)</div><div class='xr-var-dtype'>float64</div><div class='xr-var-preview xr-preview'>...</div><input id='attrs-a41ddb07-23d5-414a-89e4-319bffb75868' class='xr-var-attrs-in' type='checkbox' disabled><label for='attrs-a41ddb07-23d5-414a-89e4-319bffb75868' title='Show/Hide attributes'><svg class='icon xr-icon-file-text2'><use xlink:href='#icon-file-text2'></use></svg></label><input id='data-9c57d585-42b3-4b94-a387-d177f24b16a7' class='xr-var-data-in' type='checkbox'><label for='data-9c57d585-42b3-4b94-a387-d177f24b16a7' title='Show/Hide data repr'><svg class='icon xr-icon-database'><use xlink:href='#icon-database'></use></svg></label><div class='xr-var-attrs'><dl class='xr-attrs'></dl></div><div class='xr-var-data'><pre>[8694565 values with dtype=float64]</pre></div></li></ul></div></li><li class='xr-section-item'><input id='section-8a97c32b-62ca-49f9-a8bd-18056e922d81' class='xr-section-summary-in' type='checkbox'  checked><label for='section-8a97c32b-62ca-49f9-a8bd-18056e922d81' class='xr-section-summary' >Attributes: <span>(4)</span></label><div class='xr-section-inline-details'></div><div class='xr-section-details'><dl class='xr-attrs'><dt><span>crs :</span></dt><dd>PROJCRS[&quot;Azimuthal_Equidistant&quot;,BASEGEOGCRS[&quot;WGS 84&quot;,DATUM[&quot;World Geodetic System 1984&quot;,ELLIPSOID[&quot;WGS 84&quot;,6378137,298.257223563,LENGTHUNIT[&quot;metre&quot;,1]],ID[&quot;EPSG&quot;,6326]],PRIMEM[&quot;Greenwich&quot;,0,ANGLEUNIT[&quot;degree&quot;,0.0174532925199433]]],CONVERSION[&quot;unnamed&quot;,METHOD[&quot;Modified Azimuthal Equidistant&quot;,ID[&quot;EPSG&quot;,9832]],PARAMETER[&quot;Latitude of natural origin&quot;,53,ANGLEUNIT[&quot;degree&quot;,0.0174532925199433],ID[&quot;EPSG&quot;,8801]],PARAMETER[&quot;Longitude of natural origin&quot;,24,ANGLEUNIT[&quot;degree&quot;,0.0174532925199433],ID[&quot;EPSG&quot;,8802]],PARAMETER[&quot;False easting&quot;,5837287.81977,LENGTHUNIT[&quot;metre&quot;,1],ID[&quot;EPSG&quot;,8806]],PARAMETER[&quot;False northing&quot;,2121415.69617,LENGTHUNIT[&quot;metre&quot;,1],ID[&quot;EPSG&quot;,8807]]],CS[Cartesian,2],AXIS[&quot;(E)&quot;,east,ORDER[1],LENGTHUNIT[&quot;metre&quot;,1,ID[&quot;EPSG&quot;,9001]]],AXIS[&quot;(N)&quot;,north,ORDER[2],LENGTHUNIT[&quot;metre&quot;,1,ID[&quot;EPSG&quot;,9001]]]]</dd><dt><span>nodata :</span></dt><dd>-9999</dd><dt><span>collection :</span></dt><dd>corine_land_cover</dd><dt><span>datetime_from_dim :</span></dt><dd>2022-06-27 10:34:53.864849</dd></dl></div></li></ul></div></div>"
      ],
      "text/plain": [
       "<xarray.Dataset>\n",
       "Dimensions:      (y: 2735, x: 3179)\n",
       "Coordinates:\n",
       "    t            datetime64[ns] ...\n",
       "  * y            (y) float64 1.543e+06 1.543e+06 ... 1.516e+06 1.516e+06\n",
       "  * x            (x) float64 4.968e+06 4.968e+06 4.968e+06 ... 5e+06 5e+06 5e+06\n",
       "    spatial_ref  int32 ...\n",
       "Data variables:\n",
       "    CLC          (y, x) float64 ...\n",
       "Attributes:\n",
       "    crs:                PROJCRS[\"Azimuthal_Equidistant\",BASEGEOGCRS[\"WGS 84\",...\n",
       "    nodata:             -9999\n",
       "    collection:         corine_land_cover\n",
       "    datetime_from_dim:  2022-06-27 10:34:53.864849"
      ]
     },
     "execution_count": 104,
     "metadata": {},
     "output_type": "execute_result"
    }
   ],
   "source": [
    "import xarray as xr\n",
    "import numpy as np\n",
    "import pandas as pd\n",
    "import matplotlib.pyplot as plt\n",
    "\n",
    "CLC_2000 = xr.open_dataset(\"./demo_data/out_2000_12_15T00_00_00_EU010M_E049N015T1\")\n",
    "CLC_2018 = xr.open_dataset(\"./demo_data/out_2018_12_15T00_00_00_EU010M_E049N015T1\")\n",
    "CLC_2018"
   ]
  },
  {
   "cell_type": "code",
   "execution_count": 105,
   "id": "13cb5aae",
   "metadata": {},
   "outputs": [],
   "source": [
    "CLC_2000 = CLC_2000.CLC.values\n",
    "CLC_2018 = CLC_2018.CLC.values"
   ]
  },
  {
   "cell_type": "code",
   "execution_count": 106,
   "id": "c77cf98c",
   "metadata": {},
   "outputs": [
    {
     "data": {
      "text/plain": [
       "<matplotlib.colorbar.Colorbar at 0x7ffb68a2d430>"
      ]
     },
     "execution_count": 106,
     "metadata": {},
     "output_type": "execute_result"
    },
    {
     "data": {
      "image/png": "[encoded data removed]",
      "text/plain": [
       "<Figure size 1080x288 with 4 Axes>"
      ]
     },
     "metadata": {
      "needs_background": "light"
     },
     "output_type": "display_data"
    }
   ],
   "source": [
    "plt.figure(figsize=(15,4))\n",
    "\n",
    "plt.subplot(1,2,1)\n",
    "plt.title(\"2000-12-15\")\n",
    "plt.imshow(CLC_2000, cmap = \"Blues\")   \n",
    "plt.colorbar()\n",
    "\n",
    "plt.subplot(1,2,2)\n",
    "plt.title(\"2018-12-15\")\n",
    "plt.imshow(CLC_2018, cmap = \"Reds\")   \n",
    "plt.colorbar()"
   ]
  },
  {
   "cell_type": "code",
   "execution_count": 107,
   "id": "a38f464d",
   "metadata": {},
   "outputs": [
    {
     "data": {
      "text/plain": [
       "<matplotlib.colorbar.Colorbar at 0x7ffb6890eb50>"
      ]
     },
     "execution_count": 107,
     "metadata": {},
     "output_type": "execute_result"
    },
    {
     "data": {
      "image/png": "[encoded data removed]",
      "text/plain": [
       "<Figure size 720x432 with 2 Axes>"
      ]
     },
     "metadata": {
      "needs_background": "light"
     },
     "output_type": "display_data"
    }
   ],
   "source": [
    "plt.figure(figsize=(10,6))\n",
    "plt.title(\"Difference\")\n",
    "plt.imshow(CLC_2000, cmap=\"Blues\", alpha=0.7)\n",
    "plt.imshow(CLC_2018, cmap=\"Reds\", alpha=0.3)\n",
    "plt.colorbar()"
   ]
  },
  {
   "cell_type": "markdown",
   "id": "677ae7c2",
   "metadata": {},
   "source": [
    "Count the Glaciers and perpetual snow pixels."
   ]
  },
  {
   "cell_type": "code",
   "execution_count": 108,
   "id": "57ef8ae8",
   "metadata": {},
   "outputs": [],
   "source": [
    "counts00 = np.sum(CLC_2000)\n",
    "counts18 = np.sum(CLC_2018)"
   ]
  },
  {
   "cell_type": "code",
   "execution_count": 109,
   "id": "7ad9aac7",
   "metadata": {},
   "outputs": [
    {
     "data": {
      "text/html": [
       "<div>\n",
       "<style scoped>\n",
       "    .dataframe tbody tr th:only-of-type {\n",
       "        vertical-align: middle;\n",
       "    }\n",
       "\n",
       "    .dataframe tbody tr th {\n",
       "        vertical-align: top;\n",
       "    }\n",
       "\n",
       "    .dataframe thead th {\n",
       "        text-align: right;\n",
       "    }\n",
       "</style>\n",
       "<table border=\"1\" class=\"dataframe\">\n",
       "  <thead>\n",
       "    <tr style=\"text-align: right;\">\n",
       "      <th></th>\n",
       "      <th>year</th>\n",
       "      <th>Glaciers and perpetual snow</th>\n",
       "    </tr>\n",
       "  </thead>\n",
       "  <tbody>\n",
       "    <tr>\n",
       "      <th>0</th>\n",
       "      <td>2000</td>\n",
       "      <td>830803.0</td>\n",
       "    </tr>\n",
       "    <tr>\n",
       "      <th>1</th>\n",
       "      <td>2018</td>\n",
       "      <td>528078.0</td>\n",
       "    </tr>\n",
       "  </tbody>\n",
       "</table>\n",
       "</div>"
      ],
      "text/plain": [
       "   year  Glaciers and perpetual snow\n",
       "0  2000                     830803.0\n",
       "1  2018                     528078.0"
      ]
     },
     "execution_count": 109,
     "metadata": {},
     "output_type": "execute_result"
    }
   ],
   "source": [
    "class_table = pd.DataFrame({'year': [2000, 2018], 'Glaciers and perpetual snow': [counts00, counts18]})\n",
    "class_table"
   ]
  }
 ],
 "metadata": {
  "interpreter": {
   "hash": "ad5e6b91f18b8fc8bf30e20c44e77f3a742f35472f44f9c80322e4217ba51811"
  },
  "kernelspec": {
   "display_name": "Python 3 (ipykernel)",
   "language": "python",
   "name": "python3"
  },
  "language_info": {
   "codemirror_mode": {
    "name": "ipython",
    "version": 3
   },
   "file_extension": ".py",
   "mimetype": "text/x-python",
   "name": "python",
   "nbconvert_exporter": "python",
   "pygments_lexer": "ipython3",
   "version": "3.8.10"
  }
 },
 "nbformat": 4,
 "nbformat_minor": 5
}
