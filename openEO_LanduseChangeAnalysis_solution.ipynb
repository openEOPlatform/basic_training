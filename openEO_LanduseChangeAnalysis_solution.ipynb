{
 "cells": [
  {
   "cell_type": "markdown",
   "id": "twenty-celtic",
   "metadata": {},
   "source": [
    "<img src=\"https://avatars.githubusercontent.com/u/74911464?s=200&v=4\"\n",
    "     alt=\"OpenEO Platform logo\"\n",
    "     style=\"float: left; margin-right: 10px;\" />\n",
    "## openEO Platform - Corine land cover change over an alpine region"
   ]
  },
  {
   "cell_type": "markdown",
   "id": "35e4d8e6-370b-44c4-81f6-ac138f3fac21",
   "metadata": {
    "tags": []
   },
   "source": [
    "## Objectives and approach\n",
    "\n",
    "The objective of this notebook is to show a sample usage of the Corine Land Cover collection"
   ]
  },
  {
   "cell_type": "markdown",
   "id": "4a5d1fa3-637b-4d2f-ba44-72e205f81ba4",
   "metadata": {},
   "source": [
    "Please check that the installed openeo library is up to date (>=0.10.0)"
   ]
  },
  {
   "cell_type": "code",
   "execution_count": 52,
   "id": "central-internet",
   "metadata": {},
   "outputs": [
    {
     "data": {
      "text/plain": [
       "'0.10.1'"
      ]
     },
     "execution_count": 52,
     "metadata": {},
     "output_type": "execute_result"
    }
   ],
   "source": [
    "import openeo\n",
    "openeo.client_version()"
   ]
  },
  {
   "cell_type": "code",
   "execution_count": 53,
   "id": "811192d5",
   "metadata": {},
   "outputs": [],
   "source": [
    "import xarray as xr\n",
    "import numpy as np\n",
    "import pandas as pd\n",
    "import matplotlib.pyplot as plt\n",
    "from glob import glob"
   ]
  },
  {
   "cell_type": "markdown",
   "id": "deebdce3-effa-46ac-833b-426159bcb8b3",
   "metadata": {},
   "source": [
    "### Connect and authenticate to openEO Platform"
   ]
  },
  {
   "cell_type": "code",
   "execution_count": 54,
   "id": "ab004ee7-567e-41ae-8fc8-ce8a13634139",
   "metadata": {},
   "outputs": [
    {
     "name": "stdout",
     "output_type": "stream",
     "text": [
      "Authenticated using refresh token.\n"
     ]
    },
    {
     "data": {
      "text/plain": [
       "<Connection to 'https://openeocloud.vito.be/openeo/1.0.0/' with OidcBearerAuth>"
      ]
     },
     "execution_count": 54,
     "metadata": {},
     "output_type": "execute_result"
    }
   ],
   "source": [
    "connection = openeo.connect('openeo.cloud')\n",
    "connection.authenticate_oidc()"
   ]
  },
  {
   "cell_type": "markdown",
   "id": "fa7a0a54-5113-4519-be1d-650b2a9fc3ec",
   "metadata": {
    "jp-MarkdownHeadingCollapsed": true,
    "tags": []
   },
   "source": [
    "#### Have a look at the `corine_land_cover` collection"
   ]
  },
  {
   "cell_type": "code",
   "execution_count": 5,
   "id": "445a1236-f31c-4f74-8561-01a1196c3464",
   "metadata": {},
   "outputs": [
    {
     "data": {
      "text/html": [
       "\n",
       "    <script>\n",
       "    if (!window.customElements || !window.customElements.get('openeo-collection')) {\n",
       "        var el = document.createElement('script');\n",
       "        el.src = \"https://cdn.jsdelivr.net/npm/@openeo/vue-components@2/assets/openeo.min.js\";\n",
       "        document.head.appendChild(el);\n",
       "\n",
       "        var font = document.createElement('font');\n",
       "        font.as = \"font\";\n",
       "        font.type = \"font/woff2\";\n",
       "        font.crossOrigin = true;\n",
       "        font.href = \"https://use.fontawesome.com/releases/v5.13.0/webfonts/fa-solid-900.woff2\"\n",
       "        document.head.appendChild(font);\n",
       "    }\n",
       "    </script>\n",
       "    <openeo-collection>\n",
       "        <script type=\"application/json\">{\"mapOptions\": {}, \"data\": {\"cube:dimensions\": {\"bands\": {\"type\": \"bands\", \"values\": [\"CLC\"]}, \"t\": {\"extent\": [[\"2000-12-15T00:00:00\", \"2018-12-15T00:00:00\"]], \"type\": \"temporal\"}, \"x\": {\"axis\": \"x\", \"extent\": [1400000.0, 7900000.0], \"reference_system\": \"PROJCS[\\\"Azimuthal_Equidistant\\\",GEOGCS[\\\"GCS_WGS_1984\\\",DATUM[\\\"D_WGS_1984\\\",SPHEROID[\\\"WGS_1984\\\",6378137,298.257223563]],PRIMEM[\\\"Greenwich\\\",0],UNIT[\\\"degree\\\",0.0174532925199433]],PROJECTION[\\\"Azimuthal_Equidistant\\\"],PARAMETER[\\\"latitude_of_center\\\",53],PARAMETER[\\\"longitude_of_center\\\",24],PARAMETER[\\\"false_easting\\\",5837287.81977],PARAMETER[\\\"false_northing\\\",2121415.69617],UNIT[\\\"metre\\\",1,AUTHORITY[\\\"EPSG\\\",\\\"9001\\\"]]]\", \"type\": \"spatial\"}, \"y\": {\"axis\": \"y\", \"extent\": [100000.0, 4500000.0], \"reference_system\": \"PROJCS[\\\"Azimuthal_Equidistant\\\",GEOGCS[\\\"GCS_WGS_1984\\\",DATUM[\\\"D_WGS_1984\\\",SPHEROID[\\\"WGS_1984\\\",6378137,298.257223563]],PRIMEM[\\\"Greenwich\\\",0],UNIT[\\\"degree\\\",0.0174532925199433]],PROJECTION[\\\"Azimuthal_Equidistant\\\"],PARAMETER[\\\"latitude_of_center\\\",53],PARAMETER[\\\"longitude_of_center\\\",24],PARAMETER[\\\"false_easting\\\",5837287.81977],PARAMETER[\\\"false_northing\\\",2121415.69617],UNIT[\\\"metre\\\",1,AUTHORITY[\\\"EPSG\\\",\\\"9001\\\"]]]\", \"type\": \"spatial\"}}, \"description\": \"The CORINE Land Cover (CLC) inventory began in 1985, consisting of 44 land cover classes. This collection is resampled and stored at a 10m x 10m resolution. For further information on CORINE land cover see [here](https://land.copernicus.eu/pan-european/corine-land-cover)\", \"extent\": {\"spatial\": {\"bbox\": [[-32.091997820189285, 31.6977150076753, 55.116146716432254, 72.11413813793037]]}, \"temporal\": {\"interval\": [[\"2000-12-15T00:00:00Z\", \"2018-12-15T00:00:00Z\"]]}}, \"id\": \"corine_land_cover\", \"item_assets\": {}, \"keywords\": [\"EODC\", \"Copernicus\", \"ARD\", \"Level-3\"], \"license\": \"proprietary\", \"links\": [{\"href\": \"https://openeo.eodc.eu/v1.0\", \"rel\": \"root\"}, {\"href\": \"https://openeo.eodc.eu/v1.0/collections\", \"rel\": \"parent\"}, {\"href\": \"https://openeo.eodc.eu/v1.0/collections/corine_land_cover\", \"rel\": \"self\"}, {\"href\": \"https://openeo.eodc.eu/v1.0/collections/corine_land_cover/items\", \"rel\": \"items\"}], \"properties\": {}, \"stac_extensions\": [\"https://stac-extensions.github.io/datacube/v2.0.0/schema.json\", \"https://stac-extensions.github.io/item-assets/v1.0.0/schema.json\", \"https://github.com/stac-extensions/eo\"], \"stac_version\": \"1.0.0\", \"summaries\": {\"constellation\": {}, \"eo:bands\": [{\"common_name\": \"band1\", \"name\": \"CLC\"}], \"odc:file_format\": {\"0\": \"GeoTIFF\"}, \"odc:product_family\": {\"0\": \"level2\"}, \"platform\": {}}, \"title\": \"CORINE Land Cover\", \"type\": \"Collection\"}}</script>\n",
       "    </openeo-collection>\n",
       "    "
      ],
      "text/plain": [
       "{'cube:dimensions': {'bands': {'type': 'bands', 'values': ['CLC']},\n",
       "  't': {'extent': [['2000-12-15T00:00:00', '2018-12-15T00:00:00']],\n",
       "   'type': 'temporal'},\n",
       "  'x': {'axis': 'x',\n",
       "   'extent': [1400000.0, 7900000.0],\n",
       "   'reference_system': 'PROJCS[\"Azimuthal_Equidistant\",GEOGCS[\"GCS_WGS_1984\",DATUM[\"D_WGS_1984\",SPHEROID[\"WGS_1984\",6378137,298.257223563]],PRIMEM[\"Greenwich\",0],UNIT[\"degree\",0.0174532925199433]],PROJECTION[\"Azimuthal_Equidistant\"],PARAMETER[\"latitude_of_center\",53],PARAMETER[\"longitude_of_center\",24],PARAMETER[\"false_easting\",5837287.81977],PARAMETER[\"false_northing\",2121415.69617],UNIT[\"metre\",1,AUTHORITY[\"EPSG\",\"9001\"]]]',\n",
       "   'type': 'spatial'},\n",
       "  'y': {'axis': 'y',\n",
       "   'extent': [100000.0, 4500000.0],\n",
       "   'reference_system': 'PROJCS[\"Azimuthal_Equidistant\",GEOGCS[\"GCS_WGS_1984\",DATUM[\"D_WGS_1984\",SPHEROID[\"WGS_1984\",6378137,298.257223563]],PRIMEM[\"Greenwich\",0],UNIT[\"degree\",0.0174532925199433]],PROJECTION[\"Azimuthal_Equidistant\"],PARAMETER[\"latitude_of_center\",53],PARAMETER[\"longitude_of_center\",24],PARAMETER[\"false_easting\",5837287.81977],PARAMETER[\"false_northing\",2121415.69617],UNIT[\"metre\",1,AUTHORITY[\"EPSG\",\"9001\"]]]',\n",
       "   'type': 'spatial'}},\n",
       " 'description': 'The CORINE Land Cover (CLC) inventory began in 1985, consisting of 44 land cover classes. This collection is resampled and stored at a 10m x 10m resolution. For further information on CORINE land cover see [here](https://land.copernicus.eu/pan-european/corine-land-cover)',\n",
       " 'extent': {'spatial': {'bbox': [[-32.091997820189285,\n",
       "     31.6977150076753,\n",
       "     55.116146716432254,\n",
       "     72.11413813793037]]},\n",
       "  'temporal': {'interval': [['2000-12-15T00:00:00Z',\n",
       "     '2018-12-15T00:00:00Z']]}},\n",
       " 'id': 'corine_land_cover',\n",
       " 'item_assets': {},\n",
       " 'keywords': ['EODC', 'Copernicus', 'ARD', 'Level-3'],\n",
       " 'license': 'proprietary',\n",
       " 'links': [{'href': 'https://openeo.eodc.eu/v1.0', 'rel': 'root'},\n",
       "  {'href': 'https://openeo.eodc.eu/v1.0/collections', 'rel': 'parent'},\n",
       "  {'href': 'https://openeo.eodc.eu/v1.0/collections/corine_land_cover',\n",
       "   'rel': 'self'},\n",
       "  {'href': 'https://openeo.eodc.eu/v1.0/collections/corine_land_cover/items',\n",
       "   'rel': 'items'}],\n",
       " 'properties': {},\n",
       " 'stac_extensions': ['https://stac-extensions.github.io/datacube/v2.0.0/schema.json',\n",
       "  'https://stac-extensions.github.io/item-assets/v1.0.0/schema.json',\n",
       "  'https://github.com/stac-extensions/eo'],\n",
       " 'stac_version': '1.0.0',\n",
       " 'summaries': {'constellation': {},\n",
       "  'eo:bands': [{'common_name': 'band1', 'name': 'CLC'}],\n",
       "  'odc:file_format': {'0': 'GeoTIFF'},\n",
       "  'odc:product_family': {'0': 'level2'},\n",
       "  'platform': {}},\n",
       " 'title': 'CORINE Land Cover',\n",
       " 'type': 'Collection'}"
      ]
     },
     "execution_count": 5,
     "metadata": {},
     "output_type": "execute_result"
    }
   ],
   "source": [
    "connection.describe_collection('corine_land_cover')"
   ]
  },
  {
   "cell_type": "markdown",
   "id": "edaa2656-422f-4596-99e2-4285b92ba5e7",
   "metadata": {},
   "source": [
    "<img src=\"./CorineLandClasses.png\"\n",
    "     width=500px\n",
    "     alt=\"CLC\" />"
   ]
  },
  {
   "cell_type": "markdown",
   "id": "9c9c8d8f",
   "metadata": {
    "tags": []
   },
   "source": [
    "### Area of Interest"
   ]
  },
  {
   "cell_type": "markdown",
   "id": "c72be9a1-e061-46dd-a5c9-af3d3f660b23",
   "metadata": {},
   "source": [
    "Predefined area of interest:"
   ]
  },
  {
   "cell_type": "code",
   "execution_count": 32,
   "id": "3a70c39b",
   "metadata": {},
   "outputs": [],
   "source": [
    "# define your own spatial extent or use cell below\n",
    "spatial_extent = {'west': 12.284088134765625, 'south': 47.00647991252098, 'east': 13.396453857421877, 'north': 47.19344533938292}"
   ]
  },
  {
   "cell_type": "markdown",
   "id": "c05b501b-9cd5-4fdf-a403-8078e2e93042",
   "metadata": {},
   "source": [
    "Or select the AOI: run the next cell, click on the rectangle button and then draw the area over the map"
   ]
  },
  {
   "cell_type": "code",
   "execution_count": 33,
   "id": "caecf590",
   "metadata": {},
   "outputs": [
    {
     "data": {
      "application/vnd.jupyter.widget-view+json": {
       "model_id": "876260d87b0a474cbe35fc8c7dc844f5",
       "version_major": 2,
       "version_minor": 0
      },
      "text/plain": [
       "Map(center=[47.1, 12.84], controls=(ZoomControl(options=['position', 'zoom_in_text', 'zoom_in_title', 'zoom_ou…"
      ]
     },
     "metadata": {},
     "output_type": "display_data"
    }
   ],
   "source": [
    "from eo_utils import openeoMap\n",
    "center = [47.1, 12.84]\n",
    "zoom = 11\n",
    "\n",
    "eoMap = openeoMap(center,zoom)\n",
    "eoMap.map"
   ]
  },
  {
   "cell_type": "markdown",
   "id": "a8f7eb1b",
   "metadata": {},
   "source": [
    "Get the spatial extent of the selected area in the map"
   ]
  },
  {
   "cell_type": "code",
   "execution_count": 34,
   "id": "096fc7c4",
   "metadata": {},
   "outputs": [
    {
     "name": "stdout",
     "output_type": "stream",
     "text": [
      "{'west': 12.662778, 'south': 47.057852, 'east': 12.840545, 'north': 47.171402}\n"
     ]
    }
   ],
   "source": [
    "from openeo.util import to_bbox_dict\n",
    "bbox = eoMap.getBbox()\n",
    "spatial_extent = to_bbox_dict(bbox) \n",
    "print(spatial_extent)"
   ]
  },
  {
   "cell_type": "markdown",
   "id": "9ee19576",
   "metadata": {},
   "source": [
    "### Load the dataset"
   ]
  },
  {
   "cell_type": "markdown",
   "id": "5c1fa260",
   "metadata": {},
   "source": [
    "Load the Corine Land Cover collection. It contains a single band called CLC."
   ]
  },
  {
   "cell_type": "code",
   "execution_count": 35,
   "id": "af9d9667",
   "metadata": {},
   "outputs": [],
   "source": [
    "collection = 'corine_land_cover'\n",
    "corine_data = connection.load_collection(\n",
    "    collection, \n",
    "    spatial_extent=spatial_extent, \n",
    "    temporal_extent=['2000-01-01', '2019-04-30'],\n",
    "    bands=['CLC'], \n",
    ")"
   ]
  },
  {
   "cell_type": "markdown",
   "id": "d7c35ca9-56c0-47b2-ad8b-67abad6f698c",
   "metadata": {},
   "source": [
    "The land cover class 34 is \"Glaciers and perpetual snow\".\n",
    "\n",
    "Look at where the data is equal to 34"
   ]
  },
  {
   "cell_type": "code",
   "execution_count": 36,
   "id": "74844155-e17f-4055-b61b-e4ba4afd5116",
   "metadata": {},
   "outputs": [],
   "source": [
    "corine_eq_34 = corine_data == 34"
   ]
  },
  {
   "cell_type": "markdown",
   "id": "3a435465",
   "metadata": {},
   "source": [
    "Use the filter_temporal process to get the data of the years 2000 and 2018:"
   ]
  },
  {
   "cell_type": "code",
   "execution_count": 37,
   "id": "73c4d480",
   "metadata": {},
   "outputs": [],
   "source": [
    "corine_2000 = corine_eq_34.filter_temporal(extent=['2000-01-01', '2001-01-01'])\n",
    "corine_2018 = corine_eq_34.filter_temporal(extent=['2018-01-01', '2019-01-01'])"
   ]
  },
  {
   "cell_type": "markdown",
   "id": "24975ea7",
   "metadata": {},
   "source": [
    "Merge the data into a single datacube:"
   ]
  },
  {
   "cell_type": "code",
   "execution_count": 38,
   "id": "82bf0e92",
   "metadata": {},
   "outputs": [],
   "source": [
    "corine_merged = corine_2000.merge_cubes(corine_2018)"
   ]
  },
  {
   "cell_type": "markdown",
   "id": "b057fca7",
   "metadata": {},
   "source": [
    "Save the result as a netCDF file:"
   ]
  },
  {
   "cell_type": "code",
   "execution_count": 39,
   "id": "238d09c2",
   "metadata": {},
   "outputs": [],
   "source": [
    "corine_merged_saved = corine_merged.save_result('NetCDF')"
   ]
  },
  {
   "cell_type": "markdown",
   "id": "fc42ce82",
   "metadata": {},
   "source": [
    "Everything that has been done until now, didn't process any data. We have just created a description of the pipeline we want to run as a JSON text file, which will be sent to the back-end and processed later.\n",
    "\n",
    "The current openEO process has the following content:"
   ]
  },
  {
   "cell_type": "code",
   "execution_count": 40,
   "id": "60b1c1b2",
   "metadata": {},
   "outputs": [
    {
     "data": {
      "text/plain": [
       "{'loadcollection1': {'process_id': 'load_collection',\n",
       "  'arguments': {'bands': ['CLC'],\n",
       "   'id': 'CORINE_LAND_COVER',\n",
       "   'spatial_extent': {'west': 12.662778,\n",
       "    'south': 47.057852,\n",
       "    'east': 12.840545,\n",
       "    'north': 47.171402},\n",
       "   'temporal_extent': ['2000-01-01', '2019-04-30']}},\n",
       " 'apply1': {'process_id': 'apply',\n",
       "  'arguments': {'data': {'from_node': 'loadcollection1'},\n",
       "   'process': {'process_graph': {'eq1': {'process_id': 'eq',\n",
       "      'arguments': {'x': {'from_parameter': 'x'}, 'y': 34},\n",
       "      'result': True}}}}},\n",
       " 'filtertemporal1': {'process_id': 'filter_temporal',\n",
       "  'arguments': {'data': {'from_node': 'apply1'},\n",
       "   'extent': ['2000-01-01', '2001-01-01']}},\n",
       " 'filtertemporal2': {'process_id': 'filter_temporal',\n",
       "  'arguments': {'data': {'from_node': 'apply1'},\n",
       "   'extent': ['2018-01-01', '2019-01-01']}},\n",
       " 'mergecubes1': {'process_id': 'merge_cubes',\n",
       "  'arguments': {'cube1': {'from_node': 'filtertemporal1'},\n",
       "   'cube2': {'from_node': 'filtertemporal2'}}},\n",
       " 'saveresult1': {'process_id': 'save_result',\n",
       "  'arguments': {'data': {'from_node': 'mergecubes1'},\n",
       "   'format': 'NetCDF',\n",
       "   'options': {}},\n",
       "  'result': True}}"
      ]
     },
     "execution_count": 40,
     "metadata": {},
     "output_type": "execute_result"
    }
   ],
   "source": [
    "corine_merged_saved.flat_graph()"
   ]
  },
  {
   "cell_type": "markdown",
   "id": "898779ca",
   "metadata": {},
   "source": [
    "Now we can actually create a batch job:"
   ]
  },
  {
   "cell_type": "code",
   "execution_count": 41,
   "id": "ca1b63f1",
   "metadata": {},
   "outputs": [],
   "source": [
    "job = corine_merged_saved.create_job(title = 'CORINE_LAND_COVER')"
   ]
  },
  {
   "cell_type": "code",
   "execution_count": 16,
   "id": "784308fb",
   "metadata": {},
   "outputs": [
    {
     "data": {
      "text/html": [
       "\n",
       "    <script>\n",
       "    if (!window.customElements || !window.customElements.get('openeo-job')) {\n",
       "        var el = document.createElement('script');\n",
       "        el.src = \"https://cdn.jsdelivr.net/npm/@openeo/vue-components@2/assets/openeo.min.js\";\n",
       "        document.head.appendChild(el);\n",
       "\n",
       "        var font = document.createElement('font');\n",
       "        font.as = \"font\";\n",
       "        font.type = \"font/woff2\";\n",
       "        font.crossOrigin = true;\n",
       "        font.href = \"https://use.fontawesome.com/releases/v5.13.0/webfonts/fa-solid-900.woff2\"\n",
       "        document.head.appendChild(font);\n",
       "    }\n",
       "    </script>\n",
       "    <openeo-job>\n",
       "        <script type=\"application/json\">{\"currency\": \"EUR\", \"job\": {\"created\": \"2022-06-30T16:17:17Z\", \"id\": \"eodc-jb-7eb28fbe-9254-4ebe-98d1-7da725f8b9ef\", \"process\": {\"deprecated\": false, \"exceptions\": {}, \"experimental\": false, \"id\": \"7MWka8assurjYleH\", \"process_graph\": {\"apply1\": {\"arguments\": {\"data\": {\"from_node\": \"loadcollection1\"}, \"process\": {\"process_graph\": {\"eq1\": {\"arguments\": {\"x\": {\"from_parameter\": \"x\"}, \"y\": 34}, \"process_id\": \"eq\", \"result\": true}}}}, \"process_id\": \"apply\"}, \"filtertemporal1\": {\"arguments\": {\"data\": {\"from_node\": \"apply1\"}, \"extent\": [\"2000-01-01\", \"2001-01-01\"]}, \"process_id\": \"filter_temporal\"}, \"filtertemporal2\": {\"arguments\": {\"data\": {\"from_node\": \"apply1\"}, \"extent\": [\"2018-01-01\", \"2019-01-01\"]}, \"process_id\": \"filter_temporal\"}, \"loadcollection1\": {\"arguments\": {\"bands\": [\"CLC\"], \"id\": \"corine_land_cover\", \"spatial_extent\": {\"east\": 12.861823, \"north\": 47.171402, \"south\": 47.035393, \"west\": 12.63601}, \"temporal_extent\": [\"2000-01-01\", \"2019-04-30\"]}, \"process_id\": \"load_collection\"}, \"mergecubes1\": {\"arguments\": {\"cube1\": {\"from_node\": \"filtertemporal1\"}, \"cube2\": {\"from_node\": \"filtertemporal2\"}}, \"process_id\": \"merge_cubes\"}, \"saveresult1\": {\"arguments\": {\"data\": {\"from_node\": \"mergecubes1\"}, \"format\": \"NetCDF\", \"options\": {}}, \"process_id\": \"save_result\", \"result\": true}}}, \"status\": \"created\", \"title\": \"CORINE_LAND_COVER\"}}</script>\n",
       "    </openeo-job>\n",
       "    "
      ],
      "text/plain": [
       "<RESTJob job_id='eodc-jb-7eb28fbe-9254-4ebe-98d1-7da725f8b9ef'>"
      ]
     },
     "execution_count": 16,
     "metadata": {},
     "output_type": "execute_result"
    }
   ],
   "source": [
    "job"
   ]
  },
  {
   "cell_type": "markdown",
   "id": "ef08a16f",
   "metadata": {},
   "source": [
    "And start the batch job:"
   ]
  },
  {
   "cell_type": "code",
   "execution_count": 42,
   "id": "8771aad4",
   "metadata": {},
   "outputs": [],
   "source": [
    "job.start_job()"
   ]
  },
  {
   "cell_type": "markdown",
   "id": "821705e7",
   "metadata": {},
   "source": [
    "Please run the next cell after some time and check the job status. Once it is 'finished', you can proceed."
   ]
  },
  {
   "cell_type": "code",
   "execution_count": 45,
   "id": "0b2658aa",
   "metadata": {},
   "outputs": [
    {
     "name": "stdout",
     "output_type": "stream",
     "text": [
      "Batch job with id vito-j-246fb0c49dca4e5bbd79c09915e96606 has status  finished\n"
     ]
    }
   ],
   "source": [
    "print(f'Batch job with id {job.job_id} has status  {job.status()}')"
   ]
  },
  {
   "cell_type": "markdown",
   "id": "eb02427c",
   "metadata": {},
   "source": [
    "Otherwise, you can also show all your jobs and their status:"
   ]
  },
  {
   "cell_type": "code",
   "execution_count": 22,
   "id": "2eff5545",
   "metadata": {},
   "outputs": [],
   "source": [
    "connection.list_jobs()"
   ]
  },
  {
   "cell_type": "markdown",
   "id": "e373ca0d",
   "metadata": {},
   "source": [
    "If you need to recover the job after a python kernel reset, you can do it by:"
   ]
  },
  {
   "cell_type": "code",
   "execution_count": 34,
   "id": "729e8bff",
   "metadata": {},
   "outputs": [],
   "source": [
    "# job_id = 'eodc-jb-61201a6c-0d8a-44f2-b9e5-2a1cbab39056' #You would have to modify this\n",
    "# job = connection.job(job_id)"
   ]
  },
  {
   "cell_type": "markdown",
   "id": "18af20da",
   "metadata": {},
   "source": [
    "Now that the job has been completed, we can download the results:"
   ]
  },
  {
   "cell_type": "code",
   "execution_count": 60,
   "id": "052ccca7",
   "metadata": {
    "scrolled": true
   },
   "outputs": [],
   "source": [
    "results = job.get_results()\n",
    "results"
   ]
  },
  {
   "cell_type": "code",
   "execution_count": 55,
   "id": "13a9f4b6",
   "metadata": {},
   "outputs": [
    {
     "data": {
      "text/plain": [
       "[PosixPath('demo_data/openEO.nc'), PosixPath('demo_data/job-results.json')]"
      ]
     },
     "execution_count": 55,
     "metadata": {},
     "output_type": "execute_result"
    }
   ],
   "source": [
    "metadata = results.get_metadata()\n",
    "results.download_files('./demo_data/')"
   ]
  },
  {
   "cell_type": "code",
   "execution_count": 56,
   "id": "3d915d21",
   "metadata": {},
   "outputs": [],
   "source": [
    "result_files_2000 = sorted(glob('./demo_data/out_2000*'))\n",
    "result_files_2018 = sorted(glob('./demo_data/out_2018*'))"
   ]
  },
  {
   "cell_type": "code",
   "execution_count": 57,
   "id": "807eafc4-9a06-4f19-8269-075dff752a49",
   "metadata": {},
   "outputs": [
    {
     "data": {
      "text/html": [
       "<div><svg style=\"position: absolute; width: 0; height: 0; overflow: hidden\">\n",
       "<defs>\n",
       "<symbol id=\"icon-database\" viewBox=\"0 0 32 32\">\n",
       "<path d=\"M16 0c-8.837 0-16 2.239-16 5v4c0 2.761 7.163 5 16 5s16-2.239 16-5v-4c0-2.761-7.163-5-16-5z\"></path>\n",
       "<path d=\"M16 17c-8.837 0-16-2.239-16-5v6c0 2.761 7.163 5 16 5s16-2.239 16-5v-6c0 2.761-7.163 5-16 5z\"></path>\n",
       "<path d=\"M16 26c-8.837 0-16-2.239-16-5v6c0 2.761 7.163 5 16 5s16-2.239 16-5v-6c0 2.761-7.163 5-16 5z\"></path>\n",
       "</symbol>\n",
       "<symbol id=\"icon-file-text2\" viewBox=\"0 0 32 32\">\n",
       "<path d=\"M28.681 7.159c-0.694-0.947-1.662-2.053-2.724-3.116s-2.169-2.030-3.116-2.724c-1.612-1.182-2.393-1.319-2.841-1.319h-15.5c-1.378 0-2.5 1.121-2.5 2.5v27c0 1.378 1.122 2.5 2.5 2.5h23c1.378 0 2.5-1.122 2.5-2.5v-19.5c0-0.448-0.137-1.23-1.319-2.841zM24.543 5.457c0.959 0.959 1.712 1.825 2.268 2.543h-4.811v-4.811c0.718 0.556 1.584 1.309 2.543 2.268zM28 29.5c0 0.271-0.229 0.5-0.5 0.5h-23c-0.271 0-0.5-0.229-0.5-0.5v-27c0-0.271 0.229-0.5 0.5-0.5 0 0 15.499-0 15.5 0v7c0 0.552 0.448 1 1 1h7v19.5z\"></path>\n",
       "<path d=\"M23 26h-14c-0.552 0-1-0.448-1-1s0.448-1 1-1h14c0.552 0 1 0.448 1 1s-0.448 1-1 1z\"></path>\n",
       "<path d=\"M23 22h-14c-0.552 0-1-0.448-1-1s0.448-1 1-1h14c0.552 0 1 0.448 1 1s-0.448 1-1 1z\"></path>\n",
       "<path d=\"M23 18h-14c-0.552 0-1-0.448-1-1s0.448-1 1-1h14c0.552 0 1 0.448 1 1s-0.448 1-1 1z\"></path>\n",
       "</symbol>\n",
       "</defs>\n",
       "</svg>\n",
       "<style>/* CSS stylesheet for displaying xarray objects in jupyterlab.\n",
       " *\n",
       " */\n",
       "\n",
       ":root {\n",
       "  --xr-font-color0: var(--jp-content-font-color0, rgba(0, 0, 0, 1));\n",
       "  --xr-font-color2: var(--jp-content-font-color2, rgba(0, 0, 0, 0.54));\n",
       "  --xr-font-color3: var(--jp-content-font-color3, rgba(0, 0, 0, 0.38));\n",
       "  --xr-border-color: var(--jp-border-color2, #e0e0e0);\n",
       "  --xr-disabled-color: var(--jp-layout-color3, #bdbdbd);\n",
       "  --xr-background-color: var(--jp-layout-color0, white);\n",
       "  --xr-background-color-row-even: var(--jp-layout-color1, white);\n",
       "  --xr-background-color-row-odd: var(--jp-layout-color2, #eeeeee);\n",
       "}\n",
       "\n",
       "html[theme=dark],\n",
       "body.vscode-dark {\n",
       "  --xr-font-color0: rgba(255, 255, 255, 1);\n",
       "  --xr-font-color2: rgba(255, 255, 255, 0.54);\n",
       "  --xr-font-color3: rgba(255, 255, 255, 0.38);\n",
       "  --xr-border-color: #1F1F1F;\n",
       "  --xr-disabled-color: #515151;\n",
       "  --xr-background-color: #111111;\n",
       "  --xr-background-color-row-even: #111111;\n",
       "  --xr-background-color-row-odd: #313131;\n",
       "}\n",
       "\n",
       ".xr-wrap {\n",
       "  display: block !important;\n",
       "  min-width: 300px;\n",
       "  max-width: 700px;\n",
       "}\n",
       "\n",
       ".xr-text-repr-fallback {\n",
       "  /* fallback to plain text repr when CSS is not injected (untrusted notebook) */\n",
       "  display: none;\n",
       "}\n",
       "\n",
       ".xr-header {\n",
       "  padding-top: 6px;\n",
       "  padding-bottom: 6px;\n",
       "  margin-bottom: 4px;\n",
       "  border-bottom: solid 1px var(--xr-border-color);\n",
       "}\n",
       "\n",
       ".xr-header > div,\n",
       ".xr-header > ul {\n",
       "  display: inline;\n",
       "  margin-top: 0;\n",
       "  margin-bottom: 0;\n",
       "}\n",
       "\n",
       ".xr-obj-type,\n",
       ".xr-array-name {\n",
       "  margin-left: 2px;\n",
       "  margin-right: 10px;\n",
       "}\n",
       "\n",
       ".xr-obj-type {\n",
       "  color: var(--xr-font-color2);\n",
       "}\n",
       "\n",
       ".xr-sections {\n",
       "  padding-left: 0 !important;\n",
       "  display: grid;\n",
       "  grid-template-columns: 150px auto auto 1fr 20px 20px;\n",
       "}\n",
       "\n",
       ".xr-section-item {\n",
       "  display: contents;\n",
       "}\n",
       "\n",
       ".xr-section-item input {\n",
       "  display: none;\n",
       "}\n",
       "\n",
       ".xr-section-item input + label {\n",
       "  color: var(--xr-disabled-color);\n",
       "}\n",
       "\n",
       ".xr-section-item input:enabled + label {\n",
       "  cursor: pointer;\n",
       "  color: var(--xr-font-color2);\n",
       "}\n",
       "\n",
       ".xr-section-item input:enabled + label:hover {\n",
       "  color: var(--xr-font-color0);\n",
       "}\n",
       "\n",
       ".xr-section-summary {\n",
       "  grid-column: 1;\n",
       "  color: var(--xr-font-color2);\n",
       "  font-weight: 500;\n",
       "}\n",
       "\n",
       ".xr-section-summary > span {\n",
       "  display: inline-block;\n",
       "  padding-left: 0.5em;\n",
       "}\n",
       "\n",
       ".xr-section-summary-in:disabled + label {\n",
       "  color: var(--xr-font-color2);\n",
       "}\n",
       "\n",
       ".xr-section-summary-in + label:before {\n",
       "  display: inline-block;\n",
       "  content: '►';\n",
       "  font-size: 11px;\n",
       "  width: 15px;\n",
       "  text-align: center;\n",
       "}\n",
       "\n",
       ".xr-section-summary-in:disabled + label:before {\n",
       "  color: var(--xr-disabled-color);\n",
       "}\n",
       "\n",
       ".xr-section-summary-in:checked + label:before {\n",
       "  content: '▼';\n",
       "}\n",
       "\n",
       ".xr-section-summary-in:checked + label > span {\n",
       "  display: none;\n",
       "}\n",
       "\n",
       ".xr-section-summary,\n",
       ".xr-section-inline-details {\n",
       "  padding-top: 4px;\n",
       "  padding-bottom: 4px;\n",
       "}\n",
       "\n",
       ".xr-section-inline-details {\n",
       "  grid-column: 2 / -1;\n",
       "}\n",
       "\n",
       ".xr-section-details {\n",
       "  display: none;\n",
       "  grid-column: 1 / -1;\n",
       "  margin-bottom: 5px;\n",
       "}\n",
       "\n",
       ".xr-section-summary-in:checked ~ .xr-section-details {\n",
       "  display: contents;\n",
       "}\n",
       "\n",
       ".xr-array-wrap {\n",
       "  grid-column: 1 / -1;\n",
       "  display: grid;\n",
       "  grid-template-columns: 20px auto;\n",
       "}\n",
       "\n",
       ".xr-array-wrap > label {\n",
       "  grid-column: 1;\n",
       "  vertical-align: top;\n",
       "}\n",
       "\n",
       ".xr-preview {\n",
       "  color: var(--xr-font-color3);\n",
       "}\n",
       "\n",
       ".xr-array-preview,\n",
       ".xr-array-data {\n",
       "  padding: 0 5px !important;\n",
       "  grid-column: 2;\n",
       "}\n",
       "\n",
       ".xr-array-data,\n",
       ".xr-array-in:checked ~ .xr-array-preview {\n",
       "  display: none;\n",
       "}\n",
       "\n",
       ".xr-array-in:checked ~ .xr-array-data,\n",
       ".xr-array-preview {\n",
       "  display: inline-block;\n",
       "}\n",
       "\n",
       ".xr-dim-list {\n",
       "  display: inline-block !important;\n",
       "  list-style: none;\n",
       "  padding: 0 !important;\n",
       "  margin: 0;\n",
       "}\n",
       "\n",
       ".xr-dim-list li {\n",
       "  display: inline-block;\n",
       "  padding: 0;\n",
       "  margin: 0;\n",
       "}\n",
       "\n",
       ".xr-dim-list:before {\n",
       "  content: '(';\n",
       "}\n",
       "\n",
       ".xr-dim-list:after {\n",
       "  content: ')';\n",
       "}\n",
       "\n",
       ".xr-dim-list li:not(:last-child):after {\n",
       "  content: ',';\n",
       "  padding-right: 5px;\n",
       "}\n",
       "\n",
       ".xr-has-index {\n",
       "  font-weight: bold;\n",
       "}\n",
       "\n",
       ".xr-var-list,\n",
       ".xr-var-item {\n",
       "  display: contents;\n",
       "}\n",
       "\n",
       ".xr-var-item > div,\n",
       ".xr-var-item label,\n",
       ".xr-var-item > .xr-var-name span {\n",
       "  background-color: var(--xr-background-color-row-even);\n",
       "  margin-bottom: 0;\n",
       "}\n",
       "\n",
       ".xr-var-item > .xr-var-name:hover span {\n",
       "  padding-right: 5px;\n",
       "}\n",
       "\n",
       ".xr-var-list > li:nth-child(odd) > div,\n",
       ".xr-var-list > li:nth-child(odd) > label,\n",
       ".xr-var-list > li:nth-child(odd) > .xr-var-name span {\n",
       "  background-color: var(--xr-background-color-row-odd);\n",
       "}\n",
       "\n",
       ".xr-var-name {\n",
       "  grid-column: 1;\n",
       "}\n",
       "\n",
       ".xr-var-dims {\n",
       "  grid-column: 2;\n",
       "}\n",
       "\n",
       ".xr-var-dtype {\n",
       "  grid-column: 3;\n",
       "  text-align: right;\n",
       "  color: var(--xr-font-color2);\n",
       "}\n",
       "\n",
       ".xr-var-preview {\n",
       "  grid-column: 4;\n",
       "}\n",
       "\n",
       ".xr-var-name,\n",
       ".xr-var-dims,\n",
       ".xr-var-dtype,\n",
       ".xr-preview,\n",
       ".xr-attrs dt {\n",
       "  white-space: nowrap;\n",
       "  overflow: hidden;\n",
       "  text-overflow: ellipsis;\n",
       "  padding-right: 10px;\n",
       "}\n",
       "\n",
       ".xr-var-name:hover,\n",
       ".xr-var-dims:hover,\n",
       ".xr-var-dtype:hover,\n",
       ".xr-attrs dt:hover {\n",
       "  overflow: visible;\n",
       "  width: auto;\n",
       "  z-index: 1;\n",
       "}\n",
       "\n",
       ".xr-var-attrs,\n",
       ".xr-var-data {\n",
       "  display: none;\n",
       "  background-color: var(--xr-background-color) !important;\n",
       "  padding-bottom: 5px !important;\n",
       "}\n",
       "\n",
       ".xr-var-attrs-in:checked ~ .xr-var-attrs,\n",
       ".xr-var-data-in:checked ~ .xr-var-data {\n",
       "  display: block;\n",
       "}\n",
       "\n",
       ".xr-var-data > table {\n",
       "  float: right;\n",
       "}\n",
       "\n",
       ".xr-var-name span,\n",
       ".xr-var-data,\n",
       ".xr-attrs {\n",
       "  padding-left: 25px !important;\n",
       "}\n",
       "\n",
       ".xr-attrs,\n",
       ".xr-var-attrs,\n",
       ".xr-var-data {\n",
       "  grid-column: 1 / -1;\n",
       "}\n",
       "\n",
       "dl.xr-attrs {\n",
       "  padding: 0;\n",
       "  margin: 0;\n",
       "  display: grid;\n",
       "  grid-template-columns: 125px auto;\n",
       "}\n",
       "\n",
       ".xr-attrs dt,\n",
       ".xr-attrs dd {\n",
       "  padding: 0;\n",
       "  margin: 0;\n",
       "  float: left;\n",
       "  padding-right: 10px;\n",
       "  width: auto;\n",
       "}\n",
       "\n",
       ".xr-attrs dt {\n",
       "  font-weight: normal;\n",
       "  grid-column: 1;\n",
       "}\n",
       "\n",
       ".xr-attrs dt:hover span {\n",
       "  display: inline-block;\n",
       "  background: var(--xr-background-color);\n",
       "  padding-right: 10px;\n",
       "}\n",
       "\n",
       ".xr-attrs dd {\n",
       "  grid-column: 2;\n",
       "  white-space: pre-wrap;\n",
       "  word-break: break-all;\n",
       "}\n",
       "\n",
       ".xr-icon-database,\n",
       ".xr-icon-file-text2 {\n",
       "  display: inline-block;\n",
       "  vertical-align: middle;\n",
       "  width: 1em;\n",
       "  height: 1.5em !important;\n",
       "  stroke-width: 0;\n",
       "  stroke: currentColor;\n",
       "  fill: currentColor;\n",
       "}\n",
       "</style><pre class='xr-text-repr-fallback'>&lt;xarray.Dataset&gt;\n",
       "Dimensions:      (y: 1762, x: 1923)\n",
       "Coordinates:\n",
       "    t            datetime64[ns] 2018-12-15\n",
       "  * y            (y) float64 1.54e+06 1.54e+06 1.54e+06 ... 1.522e+06 1.522e+06\n",
       "  * x            (x) float64 4.975e+06 4.975e+06 ... 4.995e+06 4.995e+06\n",
       "    spatial_ref  int32 0\n",
       "Data variables:\n",
       "    CLC          (y, x) float64 ...\n",
       "Attributes:\n",
       "    crs:                PROJCRS[&quot;Azimuthal_Equidistant&quot;,BASEGEOGCRS[&quot;WGS 84&quot;,...\n",
       "    nodata:             -9999\n",
       "    collection:         corine_land_cover\n",
       "    datetime_from_dim:  2022-06-30 16:20:24.551415</pre><div class='xr-wrap' style='display:none'><div class='xr-header'><div class='xr-obj-type'>xarray.Dataset</div></div><ul class='xr-sections'><li class='xr-section-item'><input id='section-d6e6c257-9433-4734-8d25-c1946529cb59' class='xr-section-summary-in' type='checkbox' disabled ><label for='section-d6e6c257-9433-4734-8d25-c1946529cb59' class='xr-section-summary'  title='Expand/collapse section'>Dimensions:</label><div class='xr-section-inline-details'><ul class='xr-dim-list'><li><span class='xr-has-index'>y</span>: 1762</li><li><span class='xr-has-index'>x</span>: 1923</li></ul></div><div class='xr-section-details'></div></li><li class='xr-section-item'><input id='section-b68c5a7e-e911-4abf-a533-8e62d1081098' class='xr-section-summary-in' type='checkbox'  checked><label for='section-b68c5a7e-e911-4abf-a533-8e62d1081098' class='xr-section-summary' >Coordinates: <span>(4)</span></label><div class='xr-section-inline-details'></div><div class='xr-section-details'><ul class='xr-var-list'><li class='xr-var-item'><div class='xr-var-name'><span>t</span></div><div class='xr-var-dims'>()</div><div class='xr-var-dtype'>datetime64[ns]</div><div class='xr-var-preview xr-preview'>...</div><input id='attrs-6def1ef1-3bdc-4122-b8bc-2889d37c8d8a' class='xr-var-attrs-in' type='checkbox' disabled><label for='attrs-6def1ef1-3bdc-4122-b8bc-2889d37c8d8a' title='Show/Hide attributes'><svg class='icon xr-icon-file-text2'><use xlink:href='#icon-file-text2'></use></svg></label><input id='data-74557e0a-9e64-4a6d-a92e-61c50a3ca997' class='xr-var-data-in' type='checkbox'><label for='data-74557e0a-9e64-4a6d-a92e-61c50a3ca997' title='Show/Hide data repr'><svg class='icon xr-icon-database'><use xlink:href='#icon-database'></use></svg></label><div class='xr-var-attrs'><dl class='xr-attrs'></dl></div><div class='xr-var-data'><pre>array(&#x27;2018-12-15T00:00:00.000000000&#x27;, dtype=&#x27;datetime64[ns]&#x27;)</pre></div></li><li class='xr-var-item'><div class='xr-var-name'><span class='xr-has-index'>y</span></div><div class='xr-var-dims'>(y)</div><div class='xr-var-dtype'>float64</div><div class='xr-var-preview xr-preview'>1.54e+06 1.54e+06 ... 1.522e+06</div><input id='attrs-43d16c6d-cf7e-4f47-b94e-8c364f0c0f54' class='xr-var-attrs-in' type='checkbox' ><label for='attrs-43d16c6d-cf7e-4f47-b94e-8c364f0c0f54' title='Show/Hide attributes'><svg class='icon xr-icon-file-text2'><use xlink:href='#icon-file-text2'></use></svg></label><input id='data-ab295d24-6bce-45b1-9e10-dd3643235ca9' class='xr-var-data-in' type='checkbox'><label for='data-ab295d24-6bce-45b1-9e10-dd3643235ca9' title='Show/Hide data repr'><svg class='icon xr-icon-database'><use xlink:href='#icon-database'></use></svg></label><div class='xr-var-attrs'><dl class='xr-attrs'><dt><span>units :</span></dt><dd>metre</dd><dt><span>resolution :</span></dt><dd>-10.0</dd><dt><span>crs :</span></dt><dd>PROJCRS[&quot;Azimuthal_Equidistant&quot;,BASEGEOGCRS[&quot;WGS 84&quot;,DATUM[&quot;World Geodetic System 1984&quot;,ELLIPSOID[&quot;WGS 84&quot;,6378137,298.257223563,LENGTHUNIT[&quot;metre&quot;,1]],ID[&quot;EPSG&quot;,6326]],PRIMEM[&quot;Greenwich&quot;,0,ANGLEUNIT[&quot;degree&quot;,0.0174532925199433]]],CONVERSION[&quot;unnamed&quot;,METHOD[&quot;Modified Azimuthal Equidistant&quot;,ID[&quot;EPSG&quot;,9832]],PARAMETER[&quot;Latitude of natural origin&quot;,53,ANGLEUNIT[&quot;degree&quot;,0.0174532925199433],ID[&quot;EPSG&quot;,8801]],PARAMETER[&quot;Longitude of natural origin&quot;,24,ANGLEUNIT[&quot;degree&quot;,0.0174532925199433],ID[&quot;EPSG&quot;,8802]],PARAMETER[&quot;False easting&quot;,5837287.81977,LENGTHUNIT[&quot;metre&quot;,1],ID[&quot;EPSG&quot;,8806]],PARAMETER[&quot;False northing&quot;,2121415.69617,LENGTHUNIT[&quot;metre&quot;,1],ID[&quot;EPSG&quot;,8807]]],CS[Cartesian,2],AXIS[&quot;(E)&quot;,east,ORDER[1],LENGTHUNIT[&quot;metre&quot;,1,ID[&quot;EPSG&quot;,9001]]],AXIS[&quot;(N)&quot;,north,ORDER[2],LENGTHUNIT[&quot;metre&quot;,1,ID[&quot;EPSG&quot;,9001]]]]</dd></dl></div><div class='xr-var-data'><pre>array([1539665., 1539655., 1539645., ..., 1522075., 1522065., 1522055.])</pre></div></li><li class='xr-var-item'><div class='xr-var-name'><span class='xr-has-index'>x</span></div><div class='xr-var-dims'>(x)</div><div class='xr-var-dtype'>float64</div><div class='xr-var-preview xr-preview'>4.975e+06 4.975e+06 ... 4.995e+06</div><input id='attrs-964baf65-6ca8-4a75-9ae0-d1493bba0846' class='xr-var-attrs-in' type='checkbox' ><label for='attrs-964baf65-6ca8-4a75-9ae0-d1493bba0846' title='Show/Hide attributes'><svg class='icon xr-icon-file-text2'><use xlink:href='#icon-file-text2'></use></svg></label><input id='data-fa5ec40a-7752-4ba7-9830-a2cd8ac41092' class='xr-var-data-in' type='checkbox'><label for='data-fa5ec40a-7752-4ba7-9830-a2cd8ac41092' title='Show/Hide data repr'><svg class='icon xr-icon-database'><use xlink:href='#icon-database'></use></svg></label><div class='xr-var-attrs'><dl class='xr-attrs'><dt><span>units :</span></dt><dd>metre</dd><dt><span>resolution :</span></dt><dd>10.0</dd><dt><span>crs :</span></dt><dd>PROJCRS[&quot;Azimuthal_Equidistant&quot;,BASEGEOGCRS[&quot;WGS 84&quot;,DATUM[&quot;World Geodetic System 1984&quot;,ELLIPSOID[&quot;WGS 84&quot;,6378137,298.257223563,LENGTHUNIT[&quot;metre&quot;,1]],ID[&quot;EPSG&quot;,6326]],PRIMEM[&quot;Greenwich&quot;,0,ANGLEUNIT[&quot;degree&quot;,0.0174532925199433]]],CONVERSION[&quot;unnamed&quot;,METHOD[&quot;Modified Azimuthal Equidistant&quot;,ID[&quot;EPSG&quot;,9832]],PARAMETER[&quot;Latitude of natural origin&quot;,53,ANGLEUNIT[&quot;degree&quot;,0.0174532925199433],ID[&quot;EPSG&quot;,8801]],PARAMETER[&quot;Longitude of natural origin&quot;,24,ANGLEUNIT[&quot;degree&quot;,0.0174532925199433],ID[&quot;EPSG&quot;,8802]],PARAMETER[&quot;False easting&quot;,5837287.81977,LENGTHUNIT[&quot;metre&quot;,1],ID[&quot;EPSG&quot;,8806]],PARAMETER[&quot;False northing&quot;,2121415.69617,LENGTHUNIT[&quot;metre&quot;,1],ID[&quot;EPSG&quot;,8807]]],CS[Cartesian,2],AXIS[&quot;(E)&quot;,east,ORDER[1],LENGTHUNIT[&quot;metre&quot;,1,ID[&quot;EPSG&quot;,9001]]],AXIS[&quot;(N)&quot;,north,ORDER[2],LENGTHUNIT[&quot;metre&quot;,1,ID[&quot;EPSG&quot;,9001]]]]</dd></dl></div><div class='xr-var-data'><pre>array([4975345., 4975355., 4975365., ..., 4994545., 4994555., 4994565.])</pre></div></li><li class='xr-var-item'><div class='xr-var-name'><span>spatial_ref</span></div><div class='xr-var-dims'>()</div><div class='xr-var-dtype'>int32</div><div class='xr-var-preview xr-preview'>...</div><input id='attrs-596e2dae-0c3e-4fbd-a55b-d4ae3bcb1bb3' class='xr-var-attrs-in' type='checkbox' ><label for='attrs-596e2dae-0c3e-4fbd-a55b-d4ae3bcb1bb3' title='Show/Hide attributes'><svg class='icon xr-icon-file-text2'><use xlink:href='#icon-file-text2'></use></svg></label><input id='data-f2cc3721-855a-41f0-821d-7c194e73a4f9' class='xr-var-data-in' type='checkbox'><label for='data-f2cc3721-855a-41f0-821d-7c194e73a4f9' title='Show/Hide data repr'><svg class='icon xr-icon-database'><use xlink:href='#icon-database'></use></svg></label><div class='xr-var-attrs'><dl class='xr-attrs'><dt><span>spatial_ref :</span></dt><dd>PROJCS[&quot;Azimuthal_Equidistant&quot;,GEOGCS[&quot;WGS 84&quot;,DATUM[&quot;WGS_1984&quot;,SPHEROID[&quot;WGS 84&quot;,6378137,298.257223563],AUTHORITY[&quot;EPSG&quot;,&quot;6326&quot;]],PRIMEM[&quot;Greenwich&quot;,0],UNIT[&quot;degree&quot;,0.0174532925199433]],PROJECTION[&quot;Azimuthal_Equidistant&quot;],PARAMETER[&quot;latitude_of_center&quot;,53],PARAMETER[&quot;longitude_of_center&quot;,24],PARAMETER[&quot;false_easting&quot;,5837287.81977],PARAMETER[&quot;false_northing&quot;,2121415.69617],UNIT[&quot;metre&quot;,1,AUTHORITY[&quot;EPSG&quot;,&quot;9001&quot;]],AXIS[&quot;Easting&quot;,EAST],AXIS[&quot;Northing&quot;,NORTH]]</dd><dt><span>grid_mapping_name :</span></dt><dd>azimuthal_equidistant</dd></dl></div><div class='xr-var-data'><pre>array(0, dtype=int32)</pre></div></li></ul></div></li><li class='xr-section-item'><input id='section-f6ff0d06-4b16-4e0a-a2b1-468e7ea39a64' class='xr-section-summary-in' type='checkbox'  checked><label for='section-f6ff0d06-4b16-4e0a-a2b1-468e7ea39a64' class='xr-section-summary' >Data variables: <span>(1)</span></label><div class='xr-section-inline-details'></div><div class='xr-section-details'><ul class='xr-var-list'><li class='xr-var-item'><div class='xr-var-name'><span>CLC</span></div><div class='xr-var-dims'>(y, x)</div><div class='xr-var-dtype'>float64</div><div class='xr-var-preview xr-preview'>...</div><input id='attrs-e1fce2a7-0dfa-4dd8-b960-d216f6944e08' class='xr-var-attrs-in' type='checkbox' disabled><label for='attrs-e1fce2a7-0dfa-4dd8-b960-d216f6944e08' title='Show/Hide attributes'><svg class='icon xr-icon-file-text2'><use xlink:href='#icon-file-text2'></use></svg></label><input id='data-af0bfaaf-e1a9-4b13-bb2f-915cceb2930b' class='xr-var-data-in' type='checkbox'><label for='data-af0bfaaf-e1a9-4b13-bb2f-915cceb2930b' title='Show/Hide data repr'><svg class='icon xr-icon-database'><use xlink:href='#icon-database'></use></svg></label><div class='xr-var-attrs'><dl class='xr-attrs'></dl></div><div class='xr-var-data'><pre>[3388326 values with dtype=float64]</pre></div></li></ul></div></li><li class='xr-section-item'><input id='section-72acdfc0-f513-4108-854c-4d4d0d50b3da' class='xr-section-summary-in' type='checkbox'  checked><label for='section-72acdfc0-f513-4108-854c-4d4d0d50b3da' class='xr-section-summary' >Attributes: <span>(4)</span></label><div class='xr-section-inline-details'></div><div class='xr-section-details'><dl class='xr-attrs'><dt><span>crs :</span></dt><dd>PROJCRS[&quot;Azimuthal_Equidistant&quot;,BASEGEOGCRS[&quot;WGS 84&quot;,DATUM[&quot;World Geodetic System 1984&quot;,ELLIPSOID[&quot;WGS 84&quot;,6378137,298.257223563,LENGTHUNIT[&quot;metre&quot;,1]],ID[&quot;EPSG&quot;,6326]],PRIMEM[&quot;Greenwich&quot;,0,ANGLEUNIT[&quot;degree&quot;,0.0174532925199433]]],CONVERSION[&quot;unnamed&quot;,METHOD[&quot;Modified Azimuthal Equidistant&quot;,ID[&quot;EPSG&quot;,9832]],PARAMETER[&quot;Latitude of natural origin&quot;,53,ANGLEUNIT[&quot;degree&quot;,0.0174532925199433],ID[&quot;EPSG&quot;,8801]],PARAMETER[&quot;Longitude of natural origin&quot;,24,ANGLEUNIT[&quot;degree&quot;,0.0174532925199433],ID[&quot;EPSG&quot;,8802]],PARAMETER[&quot;False easting&quot;,5837287.81977,LENGTHUNIT[&quot;metre&quot;,1],ID[&quot;EPSG&quot;,8806]],PARAMETER[&quot;False northing&quot;,2121415.69617,LENGTHUNIT[&quot;metre&quot;,1],ID[&quot;EPSG&quot;,8807]]],CS[Cartesian,2],AXIS[&quot;(E)&quot;,east,ORDER[1],LENGTHUNIT[&quot;metre&quot;,1,ID[&quot;EPSG&quot;,9001]]],AXIS[&quot;(N)&quot;,north,ORDER[2],LENGTHUNIT[&quot;metre&quot;,1,ID[&quot;EPSG&quot;,9001]]]]</dd><dt><span>nodata :</span></dt><dd>-9999</dd><dt><span>collection :</span></dt><dd>corine_land_cover</dd><dt><span>datetime_from_dim :</span></dt><dd>2022-06-30 16:20:24.551415</dd></dl></div></li></ul></div></div>"
      ],
      "text/plain": [
       "<xarray.Dataset>\n",
       "Dimensions:      (y: 1762, x: 1923)\n",
       "Coordinates:\n",
       "    t            datetime64[ns] ...\n",
       "  * y            (y) float64 1.54e+06 1.54e+06 1.54e+06 ... 1.522e+06 1.522e+06\n",
       "  * x            (x) float64 4.975e+06 4.975e+06 ... 4.995e+06 4.995e+06\n",
       "    spatial_ref  int32 ...\n",
       "Data variables:\n",
       "    CLC          (y, x) float64 ...\n",
       "Attributes:\n",
       "    crs:                PROJCRS[\"Azimuthal_Equidistant\",BASEGEOGCRS[\"WGS 84\",...\n",
       "    nodata:             -9999\n",
       "    collection:         corine_land_cover\n",
       "    datetime_from_dim:  2022-06-30 16:20:24.551415"
      ]
     },
     "execution_count": 57,
     "metadata": {},
     "output_type": "execute_result"
    }
   ],
   "source": [
    "CLC_2000 = xr.open_dataset(result_files_2000[0])\n",
    "CLC_2018 = xr.open_dataset(result_files_2018[0])\n",
    "CLC_2018"
   ]
  },
  {
   "cell_type": "code",
   "execution_count": 58,
   "id": "f9589787-4726-4abe-86a2-34e07e44e719",
   "metadata": {},
   "outputs": [],
   "source": [
    "CLC_2000 = CLC_2000.CLC.values\n",
    "CLC_2018 = CLC_2018.CLC.values"
   ]
  },
  {
   "cell_type": "code",
   "execution_count": 59,
   "id": "fee4d189-22b8-49b8-a678-ceb257d65b7d",
   "metadata": {},
   "outputs": [
    {
     "data": {
      "text/plain": [
       "<matplotlib.colorbar.Colorbar at 0x7f01a0470a00>"
      ]
     },
     "execution_count": 59,
     "metadata": {},
     "output_type": "execute_result"
    },
    {
     "data": {
      "image/png": "[encoded data removed]",
      "text/plain": [
       "<Figure size 1080x288 with 4 Axes>"
      ]
     },
     "metadata": {
      "needs_background": "light"
     },
     "output_type": "display_data"
    }
   ],
   "source": [
    "plt.figure(figsize=(15,4))\n",
    "\n",
    "plt.subplot(1,2,1)\n",
    "plt.title('2000-12-15')\n",
    "plt.imshow(CLC_2000, cmap = 'Blues')\n",
    "plt.colorbar()\n",
    "\n",
    "plt.subplot(1,2,2)\n",
    "plt.title('2018-12-15')\n",
    "plt.imshow(CLC_2018, cmap = 'Reds')\n",
    "plt.colorbar()"
   ]
  },
  {
   "cell_type": "code",
   "execution_count": 26,
   "id": "9169c3a8-26da-4b5c-9eb2-1d4dd01a3c65",
   "metadata": {},
   "outputs": [
    {
     "data": {
      "text/plain": [
       "<matplotlib.colorbar.Colorbar at 0x7f01b0127af0>"
      ]
     },
     "execution_count": 26,
     "metadata": {},
     "output_type": "execute_result"
    },
    {
     "data": {
      "image/png": "[encoded data removed]",
      "text/plain": [
       "<Figure size 720x432 with 2 Axes>"
      ]
     },
     "metadata": {
      "needs_background": "light"
     },
     "output_type": "display_data"
    }
   ],
   "source": [
    "plt.figure(figsize=(10,6))\n",
    "plt.title('Difference')\n",
    "plt.imshow(CLC_2000, cmap='Blues', alpha=0.7)\n",
    "plt.imshow(CLC_2018, cmap='Reds', alpha=0.3)\n",
    "plt.colorbar()"
   ]
  },
  {
   "cell_type": "markdown",
   "id": "5bd1ddca-8d07-4b6e-82af-10a2bff6f987",
   "metadata": {},
   "source": [
    "Count the Glaciers and perpetual snow pixels."
   ]
  },
  {
   "cell_type": "code",
   "execution_count": 27,
   "id": "8fd6d8a2-f3e2-4de8-86c8-f852b96e51d4",
   "metadata": {},
   "outputs": [],
   "source": [
    "counts00 = np.sum(CLC_2000)\n",
    "counts18 = np.sum(CLC_2018)"
   ]
  },
  {
   "cell_type": "code",
   "execution_count": 28,
   "id": "6a92fe05-ec6c-4244-bbb4-d999f6c7d2b6",
   "metadata": {},
   "outputs": [
    {
     "data": {
      "text/html": [
       "<div>\n",
       "<style scoped>\n",
       "    .dataframe tbody tr th:only-of-type {\n",
       "        vertical-align: middle;\n",
       "    }\n",
       "\n",
       "    .dataframe tbody tr th {\n",
       "        vertical-align: top;\n",
       "    }\n",
       "\n",
       "    .dataframe thead th {\n",
       "        text-align: right;\n",
       "    }\n",
       "</style>\n",
       "<table border=\"1\" class=\"dataframe\">\n",
       "  <thead>\n",
       "    <tr style=\"text-align: right;\">\n",
       "      <th></th>\n",
       "      <th>year</th>\n",
       "      <th>Glaciers and perpetual snow</th>\n",
       "    </tr>\n",
       "  </thead>\n",
       "  <tbody>\n",
       "    <tr>\n",
       "      <th>0</th>\n",
       "      <td>2000</td>\n",
       "      <td>625072.0</td>\n",
       "    </tr>\n",
       "    <tr>\n",
       "      <th>1</th>\n",
       "      <td>2018</td>\n",
       "      <td>444860.0</td>\n",
       "    </tr>\n",
       "  </tbody>\n",
       "</table>\n",
       "</div>"
      ],
      "text/plain": [
       "   year  Glaciers and perpetual snow\n",
       "0  2000                     625072.0\n",
       "1  2018                     444860.0"
      ]
     },
     "execution_count": 28,
     "metadata": {},
     "output_type": "execute_result"
    }
   ],
   "source": [
    "class_table = pd.DataFrame({'year': [2000, 2018], 'Glaciers and perpetual snow': [counts00, counts18]})\n",
    "class_table"
   ]
  }
 ],
 "metadata": {
  "interpreter": {
   "hash": "ad5e6b91f18b8fc8bf30e20c44e77f3a742f35472f44f9c80322e4217ba51811"
  },
  "kernelspec": {
   "display_name": "Python 3 (ipykernel)",
   "language": "python",
   "name": "python3"
  },
  "language_info": {
   "codemirror_mode": {
    "name": "ipython",
    "version": 3
   },
   "file_extension": ".py",
   "mimetype": "text/x-python",
   "name": "python",
   "nbconvert_exporter": "python",
   "pygments_lexer": "ipython3",
   "version": "3.9.12"
  }
 },
 "nbformat": 4,
 "nbformat_minor": 5
}
